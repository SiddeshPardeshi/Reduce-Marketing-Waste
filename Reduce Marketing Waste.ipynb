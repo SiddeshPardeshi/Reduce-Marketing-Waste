{
 "cells": [
  {
   "cell_type": "code",
   "execution_count": 2,
   "id": "96e6ffb9",
   "metadata": {},
   "outputs": [],
   "source": [
    "import pandas as pd\n",
    "import numpy as np\n",
    "import matplotlib.pyplot as plt\n",
    "import seaborn as sns\n",
    "import matplotlib.ticker as mtick\n",
    "\n",
    "import warnings\n",
    "warnings.filterwarnings(\"ignore\")\n",
    "\n",
    "from sklearn import metrics"
   ]
  },
  {
   "cell_type": "code",
   "execution_count": 3,
   "id": "37308828",
   "metadata": {},
   "outputs": [],
   "source": [
    "train_df = pd.read_csv('train_data.csv')\n",
    "test_df = pd.read_csv('test_data.csv')"
   ]
  },
  {
   "cell_type": "code",
   "execution_count": 4,
   "id": "06d42bcd",
   "metadata": {},
   "outputs": [
    {
     "data": {
      "text/html": [
       "<div>\n",
       "<style scoped>\n",
       "    .dataframe tbody tr th:only-of-type {\n",
       "        vertical-align: middle;\n",
       "    }\n",
       "\n",
       "    .dataframe tbody tr th {\n",
       "        vertical-align: top;\n",
       "    }\n",
       "\n",
       "    .dataframe thead th {\n",
       "        text-align: right;\n",
       "    }\n",
       "</style>\n",
       "<table border=\"1\" class=\"dataframe\">\n",
       "  <thead>\n",
       "    <tr style=\"text-align: right;\">\n",
       "      <th></th>\n",
       "      <th>Deal_title</th>\n",
       "      <th>Lead_name</th>\n",
       "      <th>Industry</th>\n",
       "      <th>Deal_value</th>\n",
       "      <th>Weighted_amount</th>\n",
       "      <th>Date_of_creation</th>\n",
       "      <th>Pitch</th>\n",
       "      <th>Contact_no</th>\n",
       "      <th>Lead_revenue</th>\n",
       "      <th>Fund_category</th>\n",
       "      <th>...</th>\n",
       "      <th>Designation</th>\n",
       "      <th>Lead_POC_email</th>\n",
       "      <th>Hiring_candidate_role</th>\n",
       "      <th>Lead_source</th>\n",
       "      <th>Level_of_meeting</th>\n",
       "      <th>Last_lead_update</th>\n",
       "      <th>Internal_POC</th>\n",
       "      <th>Resource</th>\n",
       "      <th>Internal_rating</th>\n",
       "      <th>Success_probability</th>\n",
       "    </tr>\n",
       "  </thead>\n",
       "  <tbody>\n",
       "    <tr>\n",
       "      <th>0</th>\n",
       "      <td>Title65FB0</td>\n",
       "      <td>Montoya-Gonzalez PLC</td>\n",
       "      <td>Education/Training</td>\n",
       "      <td>325362$</td>\n",
       "      <td>1756954.8$</td>\n",
       "      <td>2020-03-30</td>\n",
       "      <td>Product_2</td>\n",
       "      <td>+1-158-537-2939x2838</td>\n",
       "      <td>500 Million - 1 Billion</td>\n",
       "      <td>Category 2</td>\n",
       "      <td>...</td>\n",
       "      <td>CEO/President</td>\n",
       "      <td>jenniferedwards@montoyagonzalez.com</td>\n",
       "      <td>Librarian, public</td>\n",
       "      <td>Others</td>\n",
       "      <td>Level 1</td>\n",
       "      <td>?</td>\n",
       "      <td>Jones,Eyvette W</td>\n",
       "      <td>No</td>\n",
       "      <td>1</td>\n",
       "      <td>58.6</td>\n",
       "    </tr>\n",
       "    <tr>\n",
       "      <th>1</th>\n",
       "      <td>Title91761</td>\n",
       "      <td>Weeks-Huffman Ltd</td>\n",
       "      <td>Real Estate</td>\n",
       "      <td>492285$</td>\n",
       "      <td>2904481.5$</td>\n",
       "      <td>2020-11-16</td>\n",
       "      <td>Product_1</td>\n",
       "      <td>629.180.6035x093</td>\n",
       "      <td>500 Million - 1 Billion</td>\n",
       "      <td>Category 1</td>\n",
       "      <td>...</td>\n",
       "      <td>CEO</td>\n",
       "      <td>jessicamontgomery@weekshuffman.com</td>\n",
       "      <td>Production assistant, television</td>\n",
       "      <td>Others</td>\n",
       "      <td>Level 1</td>\n",
       "      <td>NaN</td>\n",
       "      <td>Smith,Keenan H</td>\n",
       "      <td>We have all the requirements</td>\n",
       "      <td>1</td>\n",
       "      <td>60.1</td>\n",
       "    </tr>\n",
       "    <tr>\n",
       "      <th>2</th>\n",
       "      <td>Title12K22</td>\n",
       "      <td>Richard, Moore and Moore and Sons</td>\n",
       "      <td>Sales/Marketing Services</td>\n",
       "      <td>304513$</td>\n",
       "      <td>1735724.1$</td>\n",
       "      <td>2020-08-21</td>\n",
       "      <td>Product_2</td>\n",
       "      <td>408.912.4032x25925</td>\n",
       "      <td>50 - 100 Million</td>\n",
       "      <td>Category 2</td>\n",
       "      <td>...</td>\n",
       "      <td>CEO</td>\n",
       "      <td>michelecoleman@richard.com</td>\n",
       "      <td>Insurance underwriter</td>\n",
       "      <td>Website</td>\n",
       "      <td>Level 1</td>\n",
       "      <td>5 days back</td>\n",
       "      <td>Hameier,Kurt E</td>\n",
       "      <td>We have all the requirements</td>\n",
       "      <td>2</td>\n",
       "      <td>66.0</td>\n",
       "    </tr>\n",
       "    <tr>\n",
       "      <th>3</th>\n",
       "      <td>TitleRFVSJ</td>\n",
       "      <td>Patrick-Moreno Inc</td>\n",
       "      <td>Security Services</td>\n",
       "      <td>NaN</td>\n",
       "      <td>532115.65$</td>\n",
       "      <td>2020-01-02</td>\n",
       "      <td>Product_2</td>\n",
       "      <td>+1-635-997-9375</td>\n",
       "      <td>500 Million - 1 Billion</td>\n",
       "      <td>Category 3</td>\n",
       "      <td>...</td>\n",
       "      <td>Executive Vice President</td>\n",
       "      <td>brianturner@patrickmoreno.com</td>\n",
       "      <td>Biochemist, clinical</td>\n",
       "      <td>Website</td>\n",
       "      <td>Level 1</td>\n",
       "      <td>?</td>\n",
       "      <td>Gould,Lisa D</td>\n",
       "      <td>We have all the requirements</td>\n",
       "      <td>3</td>\n",
       "      <td>62.6</td>\n",
       "    </tr>\n",
       "    <tr>\n",
       "      <th>4</th>\n",
       "      <td>Title3PYNF</td>\n",
       "      <td>West LLC and Sons</td>\n",
       "      <td>Materials/Manufacturing</td>\n",
       "      <td>183462$</td>\n",
       "      <td>1256714.7$</td>\n",
       "      <td>2019-05-24</td>\n",
       "      <td>Product_2</td>\n",
       "      <td>+1-631-535-9343x88671</td>\n",
       "      <td>500 Million - 1 Billion</td>\n",
       "      <td>Category 4</td>\n",
       "      <td>...</td>\n",
       "      <td>Vice President / GM (04-present) : VP Sales an...</td>\n",
       "      <td>candicesheppard@west.com</td>\n",
       "      <td>Data processing manager</td>\n",
       "      <td>Others</td>\n",
       "      <td>Level 3</td>\n",
       "      <td>Up-to-date</td>\n",
       "      <td>Davis,Sharrice A</td>\n",
       "      <td>Deliverable</td>\n",
       "      <td>4</td>\n",
       "      <td>71.2</td>\n",
       "    </tr>\n",
       "  </tbody>\n",
       "</table>\n",
       "<p>5 rows × 23 columns</p>\n",
       "</div>"
      ],
      "text/plain": [
       "   Deal_title                          Lead_name                  Industry  \\\n",
       "0  Title65FB0               Montoya-Gonzalez PLC        Education/Training   \n",
       "1  Title91761                  Weeks-Huffman Ltd               Real Estate   \n",
       "2  Title12K22  Richard, Moore and Moore and Sons  Sales/Marketing Services   \n",
       "3  TitleRFVSJ                 Patrick-Moreno Inc         Security Services   \n",
       "4  Title3PYNF                  West LLC and Sons   Materials/Manufacturing   \n",
       "\n",
       "  Deal_value Weighted_amount Date_of_creation      Pitch  \\\n",
       "0    325362$      1756954.8$       2020-03-30  Product_2   \n",
       "1    492285$      2904481.5$       2020-11-16  Product_1   \n",
       "2    304513$      1735724.1$       2020-08-21  Product_2   \n",
       "3        NaN      532115.65$       2020-01-02  Product_2   \n",
       "4    183462$      1256714.7$       2019-05-24  Product_2   \n",
       "\n",
       "              Contact_no             Lead_revenue Fund_category  ...  \\\n",
       "0   +1-158-537-2939x2838  500 Million - 1 Billion    Category 2  ...   \n",
       "1       629.180.6035x093  500 Million - 1 Billion    Category 1  ...   \n",
       "2     408.912.4032x25925         50 - 100 Million    Category 2  ...   \n",
       "3        +1-635-997-9375  500 Million - 1 Billion    Category 3  ...   \n",
       "4  +1-631-535-9343x88671  500 Million - 1 Billion    Category 4  ...   \n",
       "\n",
       "                                         Designation  \\\n",
       "0                                      CEO/President   \n",
       "1                                                CEO   \n",
       "2                                                CEO   \n",
       "3                           Executive Vice President   \n",
       "4  Vice President / GM (04-present) : VP Sales an...   \n",
       "\n",
       "                        Lead_POC_email             Hiring_candidate_role  \\\n",
       "0  jenniferedwards@montoyagonzalez.com                 Librarian, public   \n",
       "1   jessicamontgomery@weekshuffman.com  Production assistant, television   \n",
       "2           michelecoleman@richard.com             Insurance underwriter   \n",
       "3        brianturner@patrickmoreno.com              Biochemist, clinical   \n",
       "4             candicesheppard@west.com           Data processing manager   \n",
       "\n",
       "  Lead_source Level_of_meeting Last_lead_update      Internal_POC  \\\n",
       "0      Others          Level 1                ?   Jones,Eyvette W   \n",
       "1      Others          Level 1              NaN    Smith,Keenan H   \n",
       "2     Website          Level 1      5 days back    Hameier,Kurt E   \n",
       "3     Website          Level 1                ?      Gould,Lisa D   \n",
       "4      Others          Level 3       Up-to-date  Davis,Sharrice A   \n",
       "\n",
       "                       Resource Internal_rating Success_probability  \n",
       "0                            No               1                58.6  \n",
       "1  We have all the requirements               1                60.1  \n",
       "2  We have all the requirements               2                66.0  \n",
       "3  We have all the requirements               3                62.6  \n",
       "4                   Deliverable               4                71.2  \n",
       "\n",
       "[5 rows x 23 columns]"
      ]
     },
     "execution_count": 4,
     "metadata": {},
     "output_type": "execute_result"
    }
   ],
   "source": [
    "train_df.head()"
   ]
  },
  {
   "cell_type": "code",
   "execution_count": 5,
   "id": "1de896a6",
   "metadata": {},
   "outputs": [
    {
     "name": "stdout",
     "output_type": "stream",
     "text": [
      "<class 'pandas.core.frame.DataFrame'>\n",
      "RangeIndex: 5605 entries, 0 to 5604\n",
      "Data columns (total 23 columns):\n",
      " #   Column                 Non-Null Count  Dtype  \n",
      "---  ------                 --------------  -----  \n",
      " 0   Deal_title             5605 non-null   object \n",
      " 1   Lead_name              5605 non-null   object \n",
      " 2   Industry               5604 non-null   object \n",
      " 3   Deal_value             5565 non-null   object \n",
      " 4   Weighted_amount        5182 non-null   object \n",
      " 5   Date_of_creation       5605 non-null   object \n",
      " 6   Pitch                  5605 non-null   object \n",
      " 7   Contact_no             5605 non-null   object \n",
      " 8   Lead_revenue           5605 non-null   object \n",
      " 9   Fund_category          5605 non-null   object \n",
      " 10  Geography              4815 non-null   object \n",
      " 11  Location               5596 non-null   object \n",
      " 12  POC_name               5599 non-null   object \n",
      " 13  Designation            5605 non-null   object \n",
      " 14  Lead_POC_email         5605 non-null   object \n",
      " 15  Hiring_candidate_role  5605 non-null   object \n",
      " 16  Lead_source            5605 non-null   object \n",
      " 17  Level_of_meeting       5605 non-null   object \n",
      " 18  Last_lead_update       5107 non-null   object \n",
      " 19  Internal_POC           5605 non-null   object \n",
      " 20  Resource               5494 non-null   object \n",
      " 21  Internal_rating        5605 non-null   int64  \n",
      " 22  Success_probability    5605 non-null   float64\n",
      "dtypes: float64(1), int64(1), object(21)\n",
      "memory usage: 1007.3+ KB\n"
     ]
    }
   ],
   "source": [
    "train_df.info()"
   ]
  },
  {
   "cell_type": "code",
   "execution_count": 6,
   "id": "df9b9931",
   "metadata": {},
   "outputs": [
    {
     "data": {
      "text/plain": [
       "Deal_title                 0\n",
       "Lead_name                  0\n",
       "Industry                   1\n",
       "Deal_value                40\n",
       "Weighted_amount          423\n",
       "Date_of_creation           0\n",
       "Pitch                      0\n",
       "Contact_no                 0\n",
       "Lead_revenue               0\n",
       "Fund_category              0\n",
       "Geography                790\n",
       "Location                   9\n",
       "POC_name                   6\n",
       "Designation                0\n",
       "Lead_POC_email             0\n",
       "Hiring_candidate_role      0\n",
       "Lead_source                0\n",
       "Level_of_meeting           0\n",
       "Last_lead_update         498\n",
       "Internal_POC               0\n",
       "Resource                 111\n",
       "Internal_rating            0\n",
       "Success_probability        0\n",
       "dtype: int64"
      ]
     },
     "execution_count": 6,
     "metadata": {},
     "output_type": "execute_result"
    }
   ],
   "source": [
    "train_df.isna().sum()"
   ]
  },
  {
   "cell_type": "code",
   "execution_count": 7,
   "id": "ef8f7720",
   "metadata": {},
   "outputs": [],
   "source": [
    "catCols = train_df.select_dtypes(\"object\").columns\n",
    "catCols= list(set(catCols))"
   ]
  },
  {
   "cell_type": "code",
   "execution_count": 8,
   "id": "255d80af",
   "metadata": {},
   "outputs": [
    {
     "name": "stdout",
     "output_type": "stream",
     "text": [
      "Categorical Columns :\n",
      "['Geography', 'Weighted_amount', 'Resource', 'Location', 'Lead_POC_email', 'Level_of_meeting', 'Designation', 'Lead_source', 'Deal_value', 'POC_name', 'Date_of_creation', 'Pitch', 'Lead_name', 'Internal_POC', 'Fund_category', 'Industry', 'Contact_no', 'Deal_title', 'Last_lead_update', 'Hiring_candidate_role', 'Lead_revenue']\n"
     ]
    }
   ],
   "source": [
    "print('Categorical Columns :')\n",
    "\n",
    "print(catCols)"
   ]
  },
  {
   "cell_type": "code",
   "execution_count": 9,
   "id": "521d4797",
   "metadata": {},
   "outputs": [],
   "source": [
    "train_df['Industry'] = train_df['Industry'].fillna(train_df['Industry'].mode()[0])\n",
    "train_df['Deal_value'] = train_df['Deal_value'].fillna(train_df['Deal_value'].mode()[0])\n",
    "train_df['Weighted_amount'] = train_df['Weighted_amount'].fillna(train_df['Weighted_amount'].mode()[0])\n",
    "train_df['Geography'] = train_df['Geography'].fillna(train_df['Geography'].mode()[0])\n",
    "train_df['Location'] = train_df['Location'].fillna(train_df['Location'].mode()[0])\n",
    "train_df['Last_lead_update'] = train_df['Last_lead_update'].fillna(train_df['Last_lead_update'].mode()[0])\n",
    "train_df['Resource']= train_df['Resource'].fillna(train_df['Resource'].mode()[0])\n",
    "train_df['POC_name']  = train_df['POC_name'].fillna(train_df['POC_name'].mode()[0])"
   ]
  },
  {
   "cell_type": "code",
   "execution_count": 10,
   "id": "9e0da215",
   "metadata": {},
   "outputs": [
    {
     "data": {
      "text/plain": [
       "Deal_title               0\n",
       "Lead_name                0\n",
       "Industry                 0\n",
       "Deal_value               0\n",
       "Weighted_amount          0\n",
       "Date_of_creation         0\n",
       "Pitch                    0\n",
       "Contact_no               0\n",
       "Lead_revenue             0\n",
       "Fund_category            0\n",
       "Geography                0\n",
       "Location                 0\n",
       "POC_name                 0\n",
       "Designation              0\n",
       "Lead_POC_email           0\n",
       "Hiring_candidate_role    0\n",
       "Lead_source              0\n",
       "Level_of_meeting         0\n",
       "Last_lead_update         0\n",
       "Internal_POC             0\n",
       "Resource                 0\n",
       "Internal_rating          0\n",
       "Success_probability      0\n",
       "dtype: int64"
      ]
     },
     "execution_count": 10,
     "metadata": {},
     "output_type": "execute_result"
    }
   ],
   "source": [
    "train_df.isna().sum()"
   ]
  },
  {
   "cell_type": "code",
   "execution_count": 11,
   "id": "fc729fd2",
   "metadata": {},
   "outputs": [
    {
     "data": {
      "text/plain": [
       "0        +1-158-537-2939x2838\n",
       "1            629.180.6035x093\n",
       "2          408.912.4032x25925\n",
       "3             +1-635-997-9375\n",
       "4       +1-631-535-9343x88671\n",
       "                ...          \n",
       "5600         854.226.2565x444\n",
       "5601            (521)706-0759\n",
       "5602       904-871-9413x22810\n",
       "5603         285.082.4348x533\n",
       "5604            (232)958-2972\n",
       "Name: Contact_no, Length: 5605, dtype: object"
      ]
     },
     "execution_count": 11,
     "metadata": {},
     "output_type": "execute_result"
    }
   ],
   "source": [
    "train_df['Lead_name']  #drop\n",
    "train_df['Date_of_creation'] #drop\n",
    "train_df['Contact_no'] #drop"
   ]
  },
  {
   "cell_type": "code",
   "execution_count": 12,
   "id": "e1b4073c",
   "metadata": {},
   "outputs": [
    {
     "data": {
      "text/plain": [
       "Banks                        1202\n",
       "Insurance                     348\n",
       "Financial Services            315\n",
       "Real Estate                   161\n",
       "Investment Bank/Brokerage     157\n",
       "                             ... \n",
       "Speech Recognition              1\n",
       "Radio                           1\n",
       "Railroads                       1\n",
       "eMail/Messaging                 1\n",
       "Telecom Software                1\n",
       "Name: Industry, Length: 166, dtype: int64"
      ]
     },
     "execution_count": 12,
     "metadata": {},
     "output_type": "execute_result"
    }
   ],
   "source": [
    "train_df['Industry'].value_counts()   #drop"
   ]
  },
  {
   "cell_type": "code",
   "execution_count": 13,
   "id": "cf2fa5fe",
   "metadata": {},
   "outputs": [
    {
     "data": {
      "text/plain": [
       "'99873$'"
      ]
     },
     "execution_count": 13,
     "metadata": {},
     "output_type": "execute_result"
    }
   ],
   "source": [
    "train_df['Deal_value'].max()"
   ]
  },
  {
   "cell_type": "code",
   "execution_count": 14,
   "id": "7ca673de",
   "metadata": {},
   "outputs": [
    {
     "data": {
      "text/plain": [
       "'100012$'"
      ]
     },
     "execution_count": 14,
     "metadata": {},
     "output_type": "execute_result"
    }
   ],
   "source": [
    "train_df['Deal_value'].min()"
   ]
  },
  {
   "cell_type": "code",
   "execution_count": 15,
   "id": "2023628c",
   "metadata": {},
   "outputs": [
    {
     "data": {
      "text/plain": [
       "'999318.0$'"
      ]
     },
     "execution_count": 15,
     "metadata": {},
     "output_type": "execute_result"
    }
   ],
   "source": [
    "train_df['Weighted_amount'].max()"
   ]
  },
  {
   "cell_type": "code",
   "execution_count": 16,
   "id": "0e8b1169",
   "metadata": {},
   "outputs": [
    {
     "data": {
      "text/plain": [
       "'1000253.1$'"
      ]
     },
     "execution_count": 16,
     "metadata": {},
     "output_type": "execute_result"
    }
   ],
   "source": [
    "train_df['Weighted_amount'].min()"
   ]
  },
  {
   "cell_type": "code",
   "execution_count": 17,
   "id": "6590577d",
   "metadata": {},
   "outputs": [
    {
     "data": {
      "text/plain": [
       "Product_2    2811\n",
       "Product_1    2794\n",
       "Name: Pitch, dtype: int64"
      ]
     },
     "execution_count": 17,
     "metadata": {},
     "output_type": "execute_result"
    }
   ],
   "source": [
    "train_df['Pitch'].value_counts()"
   ]
  },
  {
   "cell_type": "code",
   "execution_count": 18,
   "id": "4b50528f",
   "metadata": {},
   "outputs": [
    {
     "data": {
      "text/plain": [
       "500 Million - 1 Billion    1898\n",
       "100 - 500 Million          1895\n",
       "50 - 100 Million           1812\n",
       "Name: Lead_revenue, dtype: int64"
      ]
     },
     "execution_count": 18,
     "metadata": {},
     "output_type": "execute_result"
    }
   ],
   "source": [
    "train_df['Lead_revenue'].value_counts()"
   ]
  },
  {
   "cell_type": "code",
   "execution_count": 19,
   "id": "6e728a58",
   "metadata": {},
   "outputs": [
    {
     "data": {
      "text/plain": [
       "Category 2    1446\n",
       "Category 3    1438\n",
       "Category 1    1388\n",
       "Category 4    1333\n",
       "Name: Fund_category, dtype: int64"
      ]
     },
     "execution_count": 19,
     "metadata": {},
     "output_type": "execute_result"
    }
   ],
   "source": [
    "train_df['Fund_category'].value_counts()"
   ]
  },
  {
   "cell_type": "code",
   "execution_count": 20,
   "id": "ad6f1a9a",
   "metadata": {},
   "outputs": [
    {
     "data": {
      "text/plain": [
       "USA      3214\n",
       "India    2391\n",
       "Name: Geography, dtype: int64"
      ]
     },
     "execution_count": 20,
     "metadata": {},
     "output_type": "execute_result"
    }
   ],
   "source": [
    "train_df['Geography'].value_counts()"
   ]
  },
  {
   "cell_type": "code",
   "execution_count": 21,
   "id": "f3116482",
   "metadata": {},
   "outputs": [
    {
     "data": {
      "text/plain": [
       "Aurangabad                                  37\n",
       "Aligarh                                     22\n",
       "Muzaffarpur                                 21\n",
       "Alipurduar                                  21\n",
       "Valparai                                    21\n",
       "                                            ..\n",
       "Jackson, MI                                  2\n",
       "Hartford-West Hartford-East Hartford, CT     2\n",
       "Appleton, WI                                 2\n",
       "Cheyenne, WY                                 1\n",
       "Rapid City, SD                               1\n",
       "Name: Location, Length: 597, dtype: int64"
      ]
     },
     "execution_count": 21,
     "metadata": {},
     "output_type": "execute_result"
    }
   ],
   "source": [
    "train_df['Location'].value_counts()  #drop"
   ]
  },
  {
   "cell_type": "code",
   "execution_count": 22,
   "id": "16875b6f",
   "metadata": {},
   "outputs": [
    {
     "data": {
      "text/plain": [
       "pooja               68\n",
       "jyoti               30\n",
       "kavita              29\n",
       "poonam              23\n",
       "sunita              22\n",
       "                    ..\n",
       "Antonio Russell      1\n",
       "Jessica Wagner       1\n",
       "Jonathan Simmons     1\n",
       "Matthew Jennings     1\n",
       "Mario Fuller         1\n",
       "Name: POC_name, Length: 4288, dtype: int64"
      ]
     },
     "execution_count": 22,
     "metadata": {},
     "output_type": "execute_result"
    }
   ],
   "source": [
    "train_df['POC_name'].value_counts()  #drop"
   ]
  },
  {
   "cell_type": "code",
   "execution_count": 23,
   "id": "510c255a",
   "metadata": {},
   "outputs": [
    {
     "data": {
      "text/plain": [
       "CEO                                                                  617\n",
       "Executive Vice President                                             578\n",
       "Chairman/CEO/President                                               576\n",
       "CEO/Co-Founder/Chairman                                              574\n",
       "SVP/General Counsel                                                  559\n",
       "CEO/President                                                        549\n",
       "Chairman/Chief Innovation Officer                                    547\n",
       "CEO/Chairman/President                                               545\n",
       "Chief Executive Officer                                              538\n",
       "Vice President / GM (04-present) : VP Sales and Marketing (01-04)    522\n",
       "Name: Designation, dtype: int64"
      ]
     },
     "execution_count": 23,
     "metadata": {},
     "output_type": "execute_result"
    }
   ],
   "source": [
    "train_df['Designation'].value_counts()  #drop"
   ]
  },
  {
   "cell_type": "code",
   "execution_count": 24,
   "id": "e07c768c",
   "metadata": {},
   "outputs": [
    {
     "data": {
      "text/plain": [
       "jenniferedwards@montoyagonzalez.com    1\n",
       "ryangreen@thompson.com                 1\n",
       "kennethbartlett@arroyo.com             1\n",
       "gabriellemurphy@oneill.com             1\n",
       "davidmiller@wagner.com                 1\n",
       "                                      ..\n",
       "dianebecker@smith.com                  1\n",
       "brittanyschultz@flores.com             1\n",
       "wendynguyen@mcdonaldmarks.com          1\n",
       "brandonbowers@little.com               1\n",
       "mariofuller@esparzarusso.com           1\n",
       "Name: Lead_POC_email, Length: 5605, dtype: int64"
      ]
     },
     "execution_count": 24,
     "metadata": {},
     "output_type": "execute_result"
    }
   ],
   "source": [
    "train_df['Lead_POC_email'].value_counts() #drop"
   ]
  },
  {
   "cell_type": "code",
   "execution_count": 25,
   "id": "df1c4624",
   "metadata": {},
   "outputs": [
    {
     "data": {
      "text/plain": [
       "array(['Librarian, public', 'Production assistant, television',\n",
       "       'Insurance underwriter', 'Biochemist, clinical',\n",
       "       'Data processing manager', 'Teaching laboratory technician',\n",
       "       'Accounting technician', 'Sports administrator', 'Animator',\n",
       "       'Immigration officer', 'Designer, graphic',\n",
       "       'Trading standards officer', 'Air traffic controller', 'Lobbyist',\n",
       "       'Agricultural engineer', 'Designer, textile', 'Chiropodist',\n",
       "       'Chief Technology Officer', 'Psychotherapist, dance movement',\n",
       "       'Scientist, clinical (histocompatibility and immunogenetics)',\n",
       "       'Multimedia specialist', 'Operational investment banker',\n",
       "       'Visual merchandiser', 'Secretary/administrator',\n",
       "       'Designer, exhibition/display', 'Chemical engineer',\n",
       "       'Mechanical engineer', 'Information systems manager',\n",
       "       'Learning mentor', 'Ship broker', 'Intelligence analyst',\n",
       "       'Scientist, marine', 'Designer, fashion/clothing', 'Acupuncturist',\n",
       "       'Printmaker', 'Quantity surveyor',\n",
       "       'Scientific laboratory technician', 'Retail merchandiser',\n",
       "       'Naval architect', 'Education officer, community',\n",
       "       'Drilling engineer', 'Recycling officer',\n",
       "       'Civil Service fast streamer', 'Public affairs consultant',\n",
       "       'Land/geomatics surveyor', 'Horticultural consultant',\n",
       "       'Lighting technician, broadcasting/film/video',\n",
       "       'Marketing executive', 'Homeopath', 'Press sub',\n",
       "       'Solicitor, Scotland', 'Advice worker', 'Conservator, furniture',\n",
       "       'Surveyor, quantity', 'Tree surgeon',\n",
       "       'Health promotion specialist', 'Engineer, maintenance',\n",
       "       'Field seismologist', 'Insurance broker',\n",
       "       'Control and instrumentation engineer', 'Pensions consultant',\n",
       "       'Education officer, museum', 'Civil engineer, contracting',\n",
       "       'Designer, blown glass/stained glass', 'Designer, jewellery',\n",
       "       'Hydrologist', 'Sales professional, IT', 'Musician',\n",
       "       'Electrical engineer', 'Conference centre manager',\n",
       "       'Heritage manager', 'Private music teacher',\n",
       "       'Scientist, product/process development',\n",
       "       'Programmer, applications', 'Chiropractor',\n",
       "       'English as a foreign language teacher',\n",
       "       'Surveyor, planning and development', 'Pharmacist, hospital',\n",
       "       'Legal secretary', 'Advertising account executive',\n",
       "       'Education administrator', 'Development worker, international aid',\n",
       "       'Brewing technologist',\n",
       "       'Programme researcher, broadcasting/film/video',\n",
       "       'Network engineer', 'Engineer, agricultural',\n",
       "       'Research scientist (medical)',\n",
       "       'Teacher, English as a foreign language', 'Land',\n",
       "       'Teacher, adult education', 'Clinical biochemist',\n",
       "       'Environmental education officer', 'Biomedical engineer',\n",
       "       'Research officer, trade union', 'IT trainer',\n",
       "       'Sports development officer', 'Energy engineer', 'Theatre manager',\n",
       "       'Paramedic', 'Engineer, automotive', 'Communications engineer',\n",
       "       'Advertising copywriter', 'Race relations officer',\n",
       "       'Teacher, special educational needs',\n",
       "       'Social research officer, government', 'Engineer, water',\n",
       "       'Horticulturist, amenity', 'Chief Financial Officer',\n",
       "       'Journalist, newspaper', 'Equities trader',\n",
       "       'Research scientist (maths)', 'Architectural technologist',\n",
       "       'Paediatric nurse', 'Product designer', 'Firefighter',\n",
       "       'Emergency planning/management officer', 'Meteorologist',\n",
       "       'Clinical research associate', 'Film/video editor',\n",
       "       'Health visitor', 'Electronics engineer', 'Secretary, company',\n",
       "       'Research scientist (life sciences)', 'IT consultant',\n",
       "       'Programmer, systems', 'Proofreader',\n",
       "       'Sound technician, broadcasting/film/video', 'TEFL teacher',\n",
       "       'Company secretary', 'Statistician', 'Medical physicist',\n",
       "       'Buyer, retail', 'Careers information officer', 'Phytotherapist',\n",
       "       'Radio broadcast assistant', 'Further education lecturer',\n",
       "       'Investment analyst', 'Field trials officer',\n",
       "       'Interior and spatial designer', 'Therapist, occupational',\n",
       "       \"Barrister's clerk\", 'Accountant, chartered public finance',\n",
       "       'Research officer, government', 'Systems developer',\n",
       "       'Education officer, environmental', 'Therapist, music',\n",
       "       'Lecturer, further education', 'Scientist, audiological',\n",
       "       'Government social research officer', 'Patent attorney',\n",
       "       'Chartered legal executive (England and Wales)', 'Pharmacologist',\n",
       "       'Chief Operating Officer', 'Immunologist',\n",
       "       'Physiological scientist', 'Accountant, chartered management',\n",
       "       'Special educational needs teacher',\n",
       "       'Exhibitions officer, museum/gallery',\n",
       "       'Geophysical data processor', 'Optometrist',\n",
       "       'Conservation officer, historic buildings', 'Lexicographer',\n",
       "       'Catering manager', 'Writer', 'Geoscientist',\n",
       "       'Art gallery manager', 'Photographer', 'Travel agency manager',\n",
       "       'Cabin crew', 'Retail buyer', 'Computer games developer',\n",
       "       'Copywriter, advertising', 'Call centre manager',\n",
       "       'Child psychotherapist', 'Marine scientist',\n",
       "       'Geographical information systems officer', 'Podiatrist',\n",
       "       'Site engineer', 'Teacher, primary school', 'Colour technologist',\n",
       "       'International aid/development worker',\n",
       "       'Occupational psychologist', 'Probation officer',\n",
       "       'Lecturer, higher education', 'Financial planner', 'Ranger/warden',\n",
       "       'Video editor', 'Medical laboratory scientific officer',\n",
       "       'Producer, television/film/video', 'Maintenance engineer',\n",
       "       'Engineer, technical sales', 'Music tutor', 'Financial adviser',\n",
       "       'Dispensing optician', 'Games developer', 'Psychologist, forensic',\n",
       "       'Community pharmacist', 'Broadcast presenter', 'Art therapist',\n",
       "       'Conservator, museum/gallery', 'Warden/ranger',\n",
       "       'Horticultural therapist', 'Public relations officer',\n",
       "       'Museum/gallery curator', 'Aid worker', 'Osteopath', 'Gaffer',\n",
       "       'Passenger transport manager', 'Estate manager/land agent',\n",
       "       'Archaeologist', 'Engineer, building services',\n",
       "       'Research scientist (physical sciences)', 'Banker',\n",
       "       'Building surveyor', 'Engineer, maintenance (IT)', 'Ecologist',\n",
       "       'Soil scientist', 'Psychologist, occupational',\n",
       "       'Operational researcher', 'Toxicologist', 'Minerals surveyor',\n",
       "       'Public librarian', 'Restaurant manager', 'Astronomer',\n",
       "       'Television camera operator', 'Petroleum engineer',\n",
       "       'Teacher, music', 'Therapist, nutritional',\n",
       "       'Chartered management accountant', 'Fashion designer',\n",
       "       'Arboriculturist', 'Learning disability nurse',\n",
       "       'Historic buildings inspector/conservation officer',\n",
       "       'Pharmacist, community', 'Animal technologist',\n",
       "       'Sport and exercise psychologist',\n",
       "       'Radiation protection practitioner', 'Industrial buyer',\n",
       "       'Contractor', 'Nurse, learning disability',\n",
       "       'Health and safety adviser', 'Sports coach',\n",
       "       'Print production planner', 'Environmental consultant',\n",
       "       'Records manager', 'Quarry manager',\n",
       "       'Tourist information centre manager', 'Agricultural consultant',\n",
       "       'Journalist, magazine', 'Actuary',\n",
       "       'Production designer, theatre/television/film', 'Energy manager',\n",
       "       'Surveyor, building control', 'Bonds trader',\n",
       "       'Scientist, research (medical)', 'Administrator, local government',\n",
       "       'Engineer, production', 'Recruitment consultant',\n",
       "       'Occupational hygienist', 'Air cabin crew',\n",
       "       'Investment banker, operational', 'Lawyer', 'Magazine journalist',\n",
       "       'Air broker', 'Industrial/product designer', 'Chemist, analytical',\n",
       "       'Theatre director',\n",
       "       'Administrator, charities/voluntary organisations',\n",
       "       'Doctor, hospital', 'Designer, television/film set',\n",
       "       'Clothing/textile technologist', 'Glass blower/designer',\n",
       "       'Broadcast engineer', 'Graphic designer', 'Physicist, medical',\n",
       "       'Medical illustrator', 'Designer, interior/spatial',\n",
       "       'Production assistant, radio', 'Quality manager',\n",
       "       'Civil Service administrator', 'Jewellery designer',\n",
       "       'Ambulance person', 'Tour manager', 'Barista',\n",
       "       'Geologist, wellsite', 'Dance movement psychotherapist',\n",
       "       'Designer, multimedia', 'Herpetologist', 'Dramatherapist',\n",
       "       'Nurse, mental health', 'Purchasing manager',\n",
       "       'Editorial assistant', 'English as a second language teacher',\n",
       "       'Sales promotion account executive', 'Public house manager',\n",
       "       'Data scientist', 'Development worker, community',\n",
       "       'Producer, radio', 'Chief Strategy Officer',\n",
       "       'Claims inspector/assessor', 'Holiday representative',\n",
       "       'Engineer, communications', 'Trade union research officer',\n",
       "       'Chartered accountant', 'Educational psychologist',\n",
       "       'Diagnostic radiographer', 'Programmer, multimedia',\n",
       "       'Therapist, drama', 'Senior tax professional/tax inspector',\n",
       "       'Clinical cytogeneticist', 'Clinical molecular geneticist',\n",
       "       'Engineer, manufacturing systems', 'Engineer, structural',\n",
       "       'Public relations account executive', 'Merchant navy officer',\n",
       "       'Multimedia programmer', 'Patent examiner', 'Financial trader',\n",
       "       'Publishing copy', 'Doctor, general practice', 'Therapist, sports',\n",
       "       'Journalist, broadcasting', 'Software engineer',\n",
       "       'Plant breeder/geneticist', 'Editor, film/video',\n",
       "       'Administrator, education', 'Speech and language therapist',\n",
       "       'Surveyor, building', 'Furniture conservator/restorer',\n",
       "       \"Politician's assistant\", 'Surgeon', 'Commercial horticulturist',\n",
       "       'Cytogeneticist', 'Copy', 'Professor Emeritus', 'Ophthalmologist',\n",
       "       'Trade mark attorney', 'Chartered certified accountant',\n",
       "       'Psychiatric nurse', 'Financial manager',\n",
       "       'Commercial/residential surveyor',\n",
       "       'Higher education careers adviser', 'Early years teacher',\n",
       "       'Secondary school teacher', 'Outdoor activities/education manager',\n",
       "       'Wellsite geologist', 'Hydrogeologist', 'Dealer', 'Tax adviser',\n",
       "       'Clinical embryologist', 'Exercise physiologist',\n",
       "       'Theatre stage manager', 'Scientist, physiological',\n",
       "       'Administrator', 'Transport planner', 'Psychologist, educational',\n",
       "       'Location manager', 'Broadcast journalist',\n",
       "       'Medical sales representative', 'Biomedical scientist',\n",
       "       'Analytical chemist', 'Health service manager',\n",
       "       'Engineer, electronics', 'Fine artist',\n",
       "       'Manufacturing systems engineer', 'Surveyor, minerals',\n",
       "       'Tax inspector', 'Waste management officer', 'Animal nutritionist',\n",
       "       'Translator', 'Architect', 'Youth worker',\n",
       "       'Insurance claims handler', 'Pension scheme manager',\n",
       "       'Prison officer', 'Surveyor, hydrographic', 'Police officer',\n",
       "       'Systems analyst', 'Armed forces technical officer',\n",
       "       'Manufacturing engineer', 'Television production assistant',\n",
       "       'Editor, commissioning', 'Garment/textile technologist',\n",
       "       'Chartered public finance accountant', 'Human resources officer',\n",
       "       'Building services engineer',\n",
       "       'Engineer, broadcasting (operations)',\n",
       "       'Training and development officer', 'Engineer, electrical',\n",
       "       'Chief Executive Officer', 'Social worker',\n",
       "       'Advertising account planner', 'Medical technical officer',\n",
       "       'Health and safety inspector', 'Farm manager',\n",
       "       'Surveyor, commercial/residential', 'Hospital pharmacist',\n",
       "       'Medical secretary', 'Scientist, forensic', 'Neurosurgeon',\n",
       "       'Psychologist, clinical', 'Sales executive',\n",
       "       'Scientist, research (maths)', 'Forensic scientist',\n",
       "       'Surveyor, insurance', 'Scientist, water quality',\n",
       "       'Health physicist', 'Chief of Staff',\n",
       "       'Engineer, civil (consulting)', 'Scientist, biomedical',\n",
       "       'Psychologist, prison and probation services',\n",
       "       'Publishing rights manager', 'Designer, furniture',\n",
       "       'Forest/woodland manager', 'Commercial art gallery manager',\n",
       "       'Psychotherapist, child', 'Landscape architect',\n",
       "       'Building control surveyor', 'Special effects artist',\n",
       "       'Office manager', 'Armed forces training and education officer',\n",
       "       'Web designer', 'Engineer, manufacturing',\n",
       "       'Embryologist, clinical', 'Planning and development surveyor',\n",
       "       'Curator', 'Radio producer', 'Engineer, site',\n",
       "       'Psychologist, counselling', 'Loss adjuster, chartered', 'Dentist',\n",
       "       'Radiographer, diagnostic', 'Investment banker, corporate',\n",
       "       'Nurse, adult', 'Seismic interpreter', 'Facilities manager',\n",
       "       'Camera operator', 'Materials engineer', 'Hotel manager',\n",
       "       'Clinical scientist, histocompatibility and immunogenetics',\n",
       "       'Higher education lecturer', 'Pathologist', 'Social researcher',\n",
       "       'Fish farm manager', 'Magazine features editor',\n",
       "       'Occupational therapist', 'Applications developer',\n",
       "       'Therapeutic radiographer', 'Media planner', 'Fisheries officer',\n",
       "       'Exhibition designer', 'Arts administrator', 'Freight forwarder',\n",
       "       'Merchandiser, retail', 'Museum/gallery conservator', 'Dancer',\n",
       "       'Music therapist', 'Personnel officer', \"Nurse, children's\",\n",
       "       'Best boy', 'Operations geologist', 'Teacher, secondary school',\n",
       "       'Management consultant', 'Corporate treasurer',\n",
       "       'Engineer, drilling', 'Hydrographic surveyor',\n",
       "       'Financial controller', 'Media buyer', 'Aeronautical engineer',\n",
       "       'Press photographer', 'Oceanographer',\n",
       "       'Horticulturist, commercial', 'Runner, broadcasting/film/video',\n",
       "       'Television floor manager', 'Set designer',\n",
       "       'Scientist, research (life sciences)', 'Product manager',\n",
       "       'Geneticist, molecular', 'Retail manager',\n",
       "       'Surveyor, land/geomatics', 'Ergonomist', 'Risk analyst',\n",
       "       'Veterinary surgeon', 'Estate agent', 'Automotive engineer',\n",
       "       'Museum/gallery exhibitions officer', 'Civil engineer, consulting',\n",
       "       'Administrator, arts', 'Designer, ceramics/pottery',\n",
       "       'Charity officer', 'Clinical psychologist',\n",
       "       'Presenter, broadcasting', 'Town planner',\n",
       "       'Community education officer', 'Fast food restaurant manager',\n",
       "       'Local government officer', 'Engineer, biomedical',\n",
       "       'Radiographer, therapeutic', 'Academic librarian',\n",
       "       'Newspaper journalist', 'Technical sales engineer', 'Herbalist',\n",
       "       'Counselling psychologist', 'Textile designer', 'Microbiologist',\n",
       "       'Community arts worker', 'Teacher, early years/pre',\n",
       "       'Diplomatic Services operational officer', 'Therapist, art',\n",
       "       'Technical brewer', 'Airline pilot',\n",
       "       'Scientist, research (physical sciences)', 'Dietitian',\n",
       "       'Engineer, control and instrumentation',\n",
       "       'Contracting civil engineer', 'Research officer, political party',\n",
       "       'Television/film/video producer', 'Physiotherapist',\n",
       "       'Commissioning editor', 'Tourism officer', 'Pilot, airline',\n",
       "       'Adult nurse', 'Oncologist', 'Environmental health practitioner',\n",
       "       'Logistics and distribution manager', 'Forensic psychologist',\n",
       "       'Charity fundraiser', 'Database administrator',\n",
       "       'Market researcher', 'Arts development officer',\n",
       "       'Engineer, civil (contracting)', 'Hospital doctor',\n",
       "       'Engineer, materials', 'Make', 'Haematologist', 'Mudlogger',\n",
       "       'Associate Professor', 'Retail banker', 'Licensed conveyancer',\n",
       "       'Orthoptist', 'Primary school teacher',\n",
       "       'Armed forces operational officer', 'Consulting civil engineer',\n",
       "       'IT sales professional', 'Stage manager', 'Surveyor, mining',\n",
       "       'Amenity horticulturist', 'Corporate investment banker',\n",
       "       'Insurance risk surveyor', 'Artist', 'Therapist, horticultural',\n",
       "       'Customer service manager', 'Comptroller',\n",
       "       'Financial risk analyst', 'Sports therapist',\n",
       "       'Adult guidance worker', 'Bookseller', 'Cartographer',\n",
       "       'Geophysicist/field seismologist', 'Midwife',\n",
       "       'Accountant, chartered', 'Community development worker', 'Sub',\n",
       "       'Production engineer', 'Telecommunications researcher',\n",
       "       'Water quality scientist',\n",
       "       'Armed forces logistics/support/administrative officer',\n",
       "       'Conservation officer, nature', 'Futures trader',\n",
       "       'IT technical support officer', 'Editor, magazine features',\n",
       "       'Rural practice surveyor', 'Technical author', 'Risk manager',\n",
       "       'Therapist, speech and language', 'General practice doctor',\n",
       "       'Insurance account manager', 'Legal executive',\n",
       "       'Personal assistant', 'Fitness centre manager',\n",
       "       'Chief Marketing Officer', 'Illustrator', 'Metallurgist',\n",
       "       'Water engineer', 'Leisure centre manager',\n",
       "       'Restaurant manager, fast food', 'Housing manager/officer',\n",
       "       'Engineering geologist', 'Audiological scientist',\n",
       "       'Accommodation manager', 'Engineer, land', 'Economist',\n",
       "       'Surveyor, rural practice', 'Psychotherapist',\n",
       "       'Designer, industrial/product', 'Archivist', 'Warehouse manager',\n",
       "       'Administrator, sports', 'Psychiatrist', 'Engineer, mining',\n",
       "       'Geochemist', 'Engineer, energy', 'Ceramics designer',\n",
       "       'Furniture designer', 'Administrator, Civil Service',\n",
       "       'Equality and diversity officer',\n",
       "       'Accountant, chartered certified', 'Buyer, industrial',\n",
       "       'Regulatory affairs officer', 'Solicitor', 'Information officer',\n",
       "       'Optician, dispensing', 'Advertising art director',\n",
       "       'Event organiser', 'Barrister', 'Theme park manager',\n",
       "       'Engineer, chemical', 'Museum education officer',\n",
       "       'Mental health nurse', 'Psychologist, sport and exercise',\n",
       "       'Environmental manager', 'Product/process development scientist',\n",
       "       'Food technologist', 'Careers adviser', 'Science writer',\n",
       "       'Librarian, academic', 'Actor', 'Nutritional therapist',\n",
       "       'Interpreter', 'Chartered loss adjuster',\n",
       "       'Nature conservation officer', 'Structural engineer',\n",
       "       'Geologist, engineering', 'Production manager',\n",
       "       'Volunteer coordinator', 'Engineer, petroleum', 'Mining engineer',\n",
       "       'Counsellor'], dtype=object)"
      ]
     },
     "execution_count": 25,
     "metadata": {},
     "output_type": "execute_result"
    }
   ],
   "source": [
    "train_df['Hiring_candidate_role'].unique()  #drop"
   ]
  },
  {
   "cell_type": "code",
   "execution_count": 26,
   "id": "6ecb25da",
   "metadata": {},
   "outputs": [
    {
     "data": {
      "text/plain": [
       "Marketing Event    1477\n",
       "Others             1424\n",
       "Contact Email      1379\n",
       "Website            1325\n",
       "Name: Lead_source, dtype: int64"
      ]
     },
     "execution_count": 26,
     "metadata": {},
     "output_type": "execute_result"
    }
   ],
   "source": [
    "train_df['Lead_source'].value_counts()"
   ]
  },
  {
   "cell_type": "code",
   "execution_count": 27,
   "id": "b352b15f",
   "metadata": {},
   "outputs": [
    {
     "data": {
      "text/plain": [
       "Level 1    1938\n",
       "Level 2    1835\n",
       "Level 3    1832\n",
       "Name: Level_of_meeting, dtype: int64"
      ]
     },
     "execution_count": 27,
     "metadata": {},
     "output_type": "execute_result"
    }
   ],
   "source": [
    "train_df['Level_of_meeting'].value_counts()"
   ]
  },
  {
   "cell_type": "code",
   "execution_count": 28,
   "id": "67bb1b5f",
   "metadata": {},
   "outputs": [
    {
     "data": {
      "text/plain": [
       "Up-to-date                              1013\n",
       "Following up but lead not responding     509\n",
       "No track                                 479\n",
       "more than a month                        477\n",
       "?                                        468\n",
       "5 days back                              452\n",
       "More than a week back                    449\n",
       "More than 2 weeks                        448\n",
       "Did not hear back after Level 1          444\n",
       "2 days back                              435\n",
       "Pending                                  431\n",
       "Name: Last_lead_update, dtype: int64"
      ]
     },
     "execution_count": 28,
     "metadata": {},
     "output_type": "execute_result"
    }
   ],
   "source": [
    "train_df['Last_lead_update'].value_counts()  #drop"
   ]
  },
  {
   "cell_type": "code",
   "execution_count": 29,
   "id": "1236a2fc",
   "metadata": {},
   "outputs": [
    {
     "data": {
      "text/plain": [
       "Hebron,Artenia D             111\n",
       "Himes,Maurice C              109\n",
       "Rocks,Michael J              108\n",
       "Davis,Brian R                108\n",
       "Ullrich,Rose Anne            107\n",
       "Gilley,Janine                104\n",
       "Heidelberg,Andre D           104\n",
       "Shelton,Sidney P             102\n",
       "Murray,Younetta              102\n",
       "Leu,Darren L                 102\n",
       "Mabrey,Kevin C               101\n",
       "Carter Sr,Clifton E          101\n",
       "Salyers,Daniel L             101\n",
       "Dunaway,Antoine              101\n",
       "Booker,David L               101\n",
       "Morsy,Omar A                 100\n",
       "Hameier,Kurt E               100\n",
       "Maine,John P                  99\n",
       "Green,Candy                   99\n",
       "Turner,Marlon D               98\n",
       "Hanyok,John J                 98\n",
       "Cash,Tyrone J                 98\n",
       "Green,Ann E                   96\n",
       "Jones,Michael L               96\n",
       "Jones,Eyvette W               95\n",
       "Sutton,Michelle R             95\n",
       "Featherstone,Adrian R         95\n",
       "Ali,Mohamed                   94\n",
       "Davis,Sharrice A              94\n",
       "Logan,Kevin N                 94\n",
       "Dimattia,Frank D              94\n",
       "Georgakopoulos,Vasilios T     94\n",
       "Kiepea,Prince A               94\n",
       "Meli,Teresa V                 93\n",
       "Charles,Caleb                 93\n",
       "Gould,Lisa D                  93\n",
       "Gaskins Jr,Franklin D         92\n",
       "Irizarry,Yolanda              92\n",
       "Young,Valerie K               91\n",
       "Knox,Antonio D                91\n",
       "Ryker,David                   90\n",
       "Brown,Maxine A                90\n",
       "Clavey,Therese A              89\n",
       "Houston,Arnold E              89\n",
       "Tondeur,Keith D               88\n",
       "Vickers Jr.,Henry J           88\n",
       "Massiah,Gerard F              86\n",
       "Van Arter,Derrick             85\n",
       "Dyson,William A               85\n",
       "Pappas,Mark S                 83\n",
       "Ross,Eric L                   83\n",
       "Cashin,Marc C                 82\n",
       "Thomas,Lori E                 82\n",
       "Moran,Natalie A               81\n",
       "Anthony,Katherine D           81\n",
       "Smith,Keenan H                79\n",
       "Abdul-Hamid,Saud Muhamad      79\n",
       "Bannister,Joan                77\n",
       "McKenstry,Loretta A           74\n",
       "Robinson,John C               74\n",
       "Name: Internal_POC, dtype: int64"
      ]
     },
     "execution_count": 29,
     "metadata": {},
     "output_type": "execute_result"
    }
   ],
   "source": [
    "train_df['Internal_POC'].value_counts()  #drop"
   ]
  },
  {
   "cell_type": "code",
   "execution_count": 30,
   "id": "052205d6",
   "metadata": {},
   "outputs": [
    {
     "data": {
      "text/plain": [
       "No                              1074\n",
       "We have all the requirements     932\n",
       "Not enough                       910\n",
       "Deliverable                      906\n",
       "Cannot deliver                   902\n",
       "Yes                              881\n",
       "Name: Resource, dtype: int64"
      ]
     },
     "execution_count": 30,
     "metadata": {},
     "output_type": "execute_result"
    }
   ],
   "source": [
    "train_df['Resource'].value_counts()"
   ]
  },
  {
   "cell_type": "code",
   "execution_count": 31,
   "id": "6703a6af",
   "metadata": {},
   "outputs": [
    {
     "data": {
      "text/plain": [
       "4    1137\n",
       "5    1136\n",
       "2    1131\n",
       "3    1103\n",
       "1    1098\n",
       "Name: Internal_rating, dtype: int64"
      ]
     },
     "execution_count": 31,
     "metadata": {},
     "output_type": "execute_result"
    }
   ],
   "source": [
    "train_df['Internal_rating'].value_counts()"
   ]
  },
  {
   "cell_type": "code",
   "execution_count": 32,
   "id": "2a3b5337",
   "metadata": {},
   "outputs": [
    {
     "data": {
      "text/plain": [
       "-5.0"
      ]
     },
     "execution_count": 32,
     "metadata": {},
     "output_type": "execute_result"
    }
   ],
   "source": [
    "train_df['Success_probability'].min()"
   ]
  },
  {
   "cell_type": "code",
   "execution_count": 33,
   "id": "815a4fca",
   "metadata": {},
   "outputs": [
    {
     "data": {
      "text/plain": [
       "107.34"
      ]
     },
     "execution_count": 33,
     "metadata": {},
     "output_type": "execute_result"
    }
   ],
   "source": [
    "train_df['Success_probability'].max()"
   ]
  },
  {
   "cell_type": "code",
   "execution_count": 34,
   "id": "aa7f8da9",
   "metadata": {},
   "outputs": [
    {
     "data": {
      "text/html": [
       "<div>\n",
       "<style scoped>\n",
       "    .dataframe tbody tr th:only-of-type {\n",
       "        vertical-align: middle;\n",
       "    }\n",
       "\n",
       "    .dataframe tbody tr th {\n",
       "        vertical-align: top;\n",
       "    }\n",
       "\n",
       "    .dataframe thead th {\n",
       "        text-align: right;\n",
       "    }\n",
       "</style>\n",
       "<table border=\"1\" class=\"dataframe\">\n",
       "  <thead>\n",
       "    <tr style=\"text-align: right;\">\n",
       "      <th></th>\n",
       "      <th>Internal_rating</th>\n",
       "      <th>Success_probability</th>\n",
       "    </tr>\n",
       "  </thead>\n",
       "  <tbody>\n",
       "    <tr>\n",
       "      <th>count</th>\n",
       "      <td>5605.000000</td>\n",
       "      <td>5605.000000</td>\n",
       "    </tr>\n",
       "    <tr>\n",
       "      <th>mean</th>\n",
       "      <td>3.014630</td>\n",
       "      <td>64.743536</td>\n",
       "    </tr>\n",
       "    <tr>\n",
       "      <th>std</th>\n",
       "      <td>1.413885</td>\n",
       "      <td>17.919659</td>\n",
       "    </tr>\n",
       "    <tr>\n",
       "      <th>min</th>\n",
       "      <td>1.000000</td>\n",
       "      <td>-5.000000</td>\n",
       "    </tr>\n",
       "    <tr>\n",
       "      <th>25%</th>\n",
       "      <td>2.000000</td>\n",
       "      <td>60.500000</td>\n",
       "    </tr>\n",
       "    <tr>\n",
       "      <th>50%</th>\n",
       "      <td>3.000000</td>\n",
       "      <td>65.200000</td>\n",
       "    </tr>\n",
       "    <tr>\n",
       "      <th>75%</th>\n",
       "      <td>4.000000</td>\n",
       "      <td>69.600000</td>\n",
       "    </tr>\n",
       "    <tr>\n",
       "      <th>max</th>\n",
       "      <td>5.000000</td>\n",
       "      <td>107.340000</td>\n",
       "    </tr>\n",
       "  </tbody>\n",
       "</table>\n",
       "</div>"
      ],
      "text/plain": [
       "       Internal_rating  Success_probability\n",
       "count      5605.000000          5605.000000\n",
       "mean          3.014630            64.743536\n",
       "std           1.413885            17.919659\n",
       "min           1.000000            -5.000000\n",
       "25%           2.000000            60.500000\n",
       "50%           3.000000            65.200000\n",
       "75%           4.000000            69.600000\n",
       "max           5.000000           107.340000"
      ]
     },
     "execution_count": 34,
     "metadata": {},
     "output_type": "execute_result"
    }
   ],
   "source": [
    "train_df.describe()"
   ]
  },
  {
   "cell_type": "code",
   "execution_count": 35,
   "id": "0c1daf56",
   "metadata": {
    "scrolled": true
   },
   "outputs": [
    {
     "name": "stdout",
     "output_type": "stream",
     "text": [
      "<class 'pandas.core.frame.DataFrame'>\n",
      "RangeIndex: 5605 entries, 0 to 5604\n",
      "Data columns (total 23 columns):\n",
      " #   Column                 Non-Null Count  Dtype  \n",
      "---  ------                 --------------  -----  \n",
      " 0   Deal_title             5605 non-null   object \n",
      " 1   Lead_name              5605 non-null   object \n",
      " 2   Industry               5605 non-null   object \n",
      " 3   Deal_value             5605 non-null   object \n",
      " 4   Weighted_amount        5605 non-null   object \n",
      " 5   Date_of_creation       5605 non-null   object \n",
      " 6   Pitch                  5605 non-null   object \n",
      " 7   Contact_no             5605 non-null   object \n",
      " 8   Lead_revenue           5605 non-null   object \n",
      " 9   Fund_category          5605 non-null   object \n",
      " 10  Geography              5605 non-null   object \n",
      " 11  Location               5605 non-null   object \n",
      " 12  POC_name               5605 non-null   object \n",
      " 13  Designation            5605 non-null   object \n",
      " 14  Lead_POC_email         5605 non-null   object \n",
      " 15  Hiring_candidate_role  5605 non-null   object \n",
      " 16  Lead_source            5605 non-null   object \n",
      " 17  Level_of_meeting       5605 non-null   object \n",
      " 18  Last_lead_update       5605 non-null   object \n",
      " 19  Internal_POC           5605 non-null   object \n",
      " 20  Resource               5605 non-null   object \n",
      " 21  Internal_rating        5605 non-null   int64  \n",
      " 22  Success_probability    5605 non-null   float64\n",
      "dtypes: float64(1), int64(1), object(21)\n",
      "memory usage: 1007.3+ KB\n"
     ]
    }
   ],
   "source": [
    "train_df.info()"
   ]
  },
  {
   "cell_type": "code",
   "execution_count": 36,
   "id": "1bbdccc3",
   "metadata": {},
   "outputs": [],
   "source": [
    "train_df.drop(['Deal_title', 'Lead_name', 'Industry', 'Date_of_creation', 'Contact_no', 'Location', 'Designation',\n",
    "              'Lead_POC_email', 'Hiring_candidate_role', 'Last_lead_update', 'Internal_POC'], axis = 1, inplace = True)"
   ]
  },
  {
   "cell_type": "code",
   "execution_count": 37,
   "id": "0c255982",
   "metadata": {},
   "outputs": [
    {
     "data": {
      "text/html": [
       "<div>\n",
       "<style scoped>\n",
       "    .dataframe tbody tr th:only-of-type {\n",
       "        vertical-align: middle;\n",
       "    }\n",
       "\n",
       "    .dataframe tbody tr th {\n",
       "        vertical-align: top;\n",
       "    }\n",
       "\n",
       "    .dataframe thead th {\n",
       "        text-align: right;\n",
       "    }\n",
       "</style>\n",
       "<table border=\"1\" class=\"dataframe\">\n",
       "  <thead>\n",
       "    <tr style=\"text-align: right;\">\n",
       "      <th></th>\n",
       "      <th>Deal_value</th>\n",
       "      <th>Weighted_amount</th>\n",
       "      <th>Pitch</th>\n",
       "      <th>Lead_revenue</th>\n",
       "      <th>Fund_category</th>\n",
       "      <th>Geography</th>\n",
       "      <th>POC_name</th>\n",
       "      <th>Lead_source</th>\n",
       "      <th>Level_of_meeting</th>\n",
       "      <th>Resource</th>\n",
       "      <th>Internal_rating</th>\n",
       "      <th>Success_probability</th>\n",
       "    </tr>\n",
       "  </thead>\n",
       "  <tbody>\n",
       "    <tr>\n",
       "      <th>0</th>\n",
       "      <td>325362$</td>\n",
       "      <td>1756954.8$</td>\n",
       "      <td>Product_2</td>\n",
       "      <td>500 Million - 1 Billion</td>\n",
       "      <td>Category 2</td>\n",
       "      <td>India</td>\n",
       "      <td>nirma</td>\n",
       "      <td>Others</td>\n",
       "      <td>Level 1</td>\n",
       "      <td>No</td>\n",
       "      <td>1</td>\n",
       "      <td>58.6</td>\n",
       "    </tr>\n",
       "    <tr>\n",
       "      <th>1</th>\n",
       "      <td>492285$</td>\n",
       "      <td>2904481.5$</td>\n",
       "      <td>Product_1</td>\n",
       "      <td>500 Million - 1 Billion</td>\n",
       "      <td>Category 1</td>\n",
       "      <td>India</td>\n",
       "      <td>ritu</td>\n",
       "      <td>Others</td>\n",
       "      <td>Level 1</td>\n",
       "      <td>We have all the requirements</td>\n",
       "      <td>1</td>\n",
       "      <td>60.1</td>\n",
       "    </tr>\n",
       "    <tr>\n",
       "      <th>2</th>\n",
       "      <td>304513$</td>\n",
       "      <td>1735724.1$</td>\n",
       "      <td>Product_2</td>\n",
       "      <td>50 - 100 Million</td>\n",
       "      <td>Category 2</td>\n",
       "      <td>USA</td>\n",
       "      <td>Michele Coleman</td>\n",
       "      <td>Website</td>\n",
       "      <td>Level 1</td>\n",
       "      <td>We have all the requirements</td>\n",
       "      <td>2</td>\n",
       "      <td>66.0</td>\n",
       "    </tr>\n",
       "    <tr>\n",
       "      <th>3</th>\n",
       "      <td>121985$</td>\n",
       "      <td>532115.65$</td>\n",
       "      <td>Product_2</td>\n",
       "      <td>500 Million - 1 Billion</td>\n",
       "      <td>Category 3</td>\n",
       "      <td>India</td>\n",
       "      <td>rani</td>\n",
       "      <td>Website</td>\n",
       "      <td>Level 1</td>\n",
       "      <td>We have all the requirements</td>\n",
       "      <td>3</td>\n",
       "      <td>62.6</td>\n",
       "    </tr>\n",
       "    <tr>\n",
       "      <th>4</th>\n",
       "      <td>183462$</td>\n",
       "      <td>1256714.7$</td>\n",
       "      <td>Product_2</td>\n",
       "      <td>500 Million - 1 Billion</td>\n",
       "      <td>Category 4</td>\n",
       "      <td>USA</td>\n",
       "      <td>Candice Sheppard</td>\n",
       "      <td>Others</td>\n",
       "      <td>Level 3</td>\n",
       "      <td>Deliverable</td>\n",
       "      <td>4</td>\n",
       "      <td>71.2</td>\n",
       "    </tr>\n",
       "  </tbody>\n",
       "</table>\n",
       "</div>"
      ],
      "text/plain": [
       "  Deal_value Weighted_amount      Pitch             Lead_revenue  \\\n",
       "0    325362$      1756954.8$  Product_2  500 Million - 1 Billion   \n",
       "1    492285$      2904481.5$  Product_1  500 Million - 1 Billion   \n",
       "2    304513$      1735724.1$  Product_2         50 - 100 Million   \n",
       "3    121985$      532115.65$  Product_2  500 Million - 1 Billion   \n",
       "4    183462$      1256714.7$  Product_2  500 Million - 1 Billion   \n",
       "\n",
       "  Fund_category Geography          POC_name Lead_source Level_of_meeting  \\\n",
       "0    Category 2     India             nirma      Others          Level 1   \n",
       "1    Category 1     India              ritu      Others          Level 1   \n",
       "2    Category 2       USA   Michele Coleman     Website          Level 1   \n",
       "3    Category 3     India              rani     Website          Level 1   \n",
       "4    Category 4       USA  Candice Sheppard      Others          Level 3   \n",
       "\n",
       "                       Resource  Internal_rating  Success_probability  \n",
       "0                            No                1                 58.6  \n",
       "1  We have all the requirements                1                 60.1  \n",
       "2  We have all the requirements                2                 66.0  \n",
       "3  We have all the requirements                3                 62.6  \n",
       "4                   Deliverable                4                 71.2  "
      ]
     },
     "execution_count": 37,
     "metadata": {},
     "output_type": "execute_result"
    }
   ],
   "source": [
    "train_df.head()"
   ]
  },
  {
   "cell_type": "code",
   "execution_count": 38,
   "id": "52f77e4c",
   "metadata": {},
   "outputs": [],
   "source": [
    "train_df[train_df.columns[0:2]] = train_df[train_df.columns[0:2]].replace('[\\$,]', '', regex=True).astype(float)"
   ]
  },
  {
   "cell_type": "code",
   "execution_count": 39,
   "id": "eb881d8c",
   "metadata": {},
   "outputs": [
    {
     "data": {
      "text/html": [
       "<div>\n",
       "<style scoped>\n",
       "    .dataframe tbody tr th:only-of-type {\n",
       "        vertical-align: middle;\n",
       "    }\n",
       "\n",
       "    .dataframe tbody tr th {\n",
       "        vertical-align: top;\n",
       "    }\n",
       "\n",
       "    .dataframe thead th {\n",
       "        text-align: right;\n",
       "    }\n",
       "</style>\n",
       "<table border=\"1\" class=\"dataframe\">\n",
       "  <thead>\n",
       "    <tr style=\"text-align: right;\">\n",
       "      <th></th>\n",
       "      <th>Deal_value</th>\n",
       "      <th>Weighted_amount</th>\n",
       "      <th>Pitch</th>\n",
       "      <th>Lead_revenue</th>\n",
       "      <th>Fund_category</th>\n",
       "      <th>Geography</th>\n",
       "      <th>POC_name</th>\n",
       "      <th>Lead_source</th>\n",
       "      <th>Level_of_meeting</th>\n",
       "      <th>Resource</th>\n",
       "      <th>Internal_rating</th>\n",
       "      <th>Success_probability</th>\n",
       "    </tr>\n",
       "  </thead>\n",
       "  <tbody>\n",
       "    <tr>\n",
       "      <th>0</th>\n",
       "      <td>325362.0</td>\n",
       "      <td>1756954.80</td>\n",
       "      <td>Product_2</td>\n",
       "      <td>500 Million - 1 Billion</td>\n",
       "      <td>Category 2</td>\n",
       "      <td>India</td>\n",
       "      <td>nirma</td>\n",
       "      <td>Others</td>\n",
       "      <td>Level 1</td>\n",
       "      <td>No</td>\n",
       "      <td>1</td>\n",
       "      <td>58.6</td>\n",
       "    </tr>\n",
       "    <tr>\n",
       "      <th>1</th>\n",
       "      <td>492285.0</td>\n",
       "      <td>2904481.50</td>\n",
       "      <td>Product_1</td>\n",
       "      <td>500 Million - 1 Billion</td>\n",
       "      <td>Category 1</td>\n",
       "      <td>India</td>\n",
       "      <td>ritu</td>\n",
       "      <td>Others</td>\n",
       "      <td>Level 1</td>\n",
       "      <td>We have all the requirements</td>\n",
       "      <td>1</td>\n",
       "      <td>60.1</td>\n",
       "    </tr>\n",
       "    <tr>\n",
       "      <th>2</th>\n",
       "      <td>304513.0</td>\n",
       "      <td>1735724.10</td>\n",
       "      <td>Product_2</td>\n",
       "      <td>50 - 100 Million</td>\n",
       "      <td>Category 2</td>\n",
       "      <td>USA</td>\n",
       "      <td>Michele Coleman</td>\n",
       "      <td>Website</td>\n",
       "      <td>Level 1</td>\n",
       "      <td>We have all the requirements</td>\n",
       "      <td>2</td>\n",
       "      <td>66.0</td>\n",
       "    </tr>\n",
       "    <tr>\n",
       "      <th>3</th>\n",
       "      <td>121985.0</td>\n",
       "      <td>532115.65</td>\n",
       "      <td>Product_2</td>\n",
       "      <td>500 Million - 1 Billion</td>\n",
       "      <td>Category 3</td>\n",
       "      <td>India</td>\n",
       "      <td>rani</td>\n",
       "      <td>Website</td>\n",
       "      <td>Level 1</td>\n",
       "      <td>We have all the requirements</td>\n",
       "      <td>3</td>\n",
       "      <td>62.6</td>\n",
       "    </tr>\n",
       "    <tr>\n",
       "      <th>4</th>\n",
       "      <td>183462.0</td>\n",
       "      <td>1256714.70</td>\n",
       "      <td>Product_2</td>\n",
       "      <td>500 Million - 1 Billion</td>\n",
       "      <td>Category 4</td>\n",
       "      <td>USA</td>\n",
       "      <td>Candice Sheppard</td>\n",
       "      <td>Others</td>\n",
       "      <td>Level 3</td>\n",
       "      <td>Deliverable</td>\n",
       "      <td>4</td>\n",
       "      <td>71.2</td>\n",
       "    </tr>\n",
       "  </tbody>\n",
       "</table>\n",
       "</div>"
      ],
      "text/plain": [
       "   Deal_value  Weighted_amount      Pitch             Lead_revenue  \\\n",
       "0    325362.0       1756954.80  Product_2  500 Million - 1 Billion   \n",
       "1    492285.0       2904481.50  Product_1  500 Million - 1 Billion   \n",
       "2    304513.0       1735724.10  Product_2         50 - 100 Million   \n",
       "3    121985.0        532115.65  Product_2  500 Million - 1 Billion   \n",
       "4    183462.0       1256714.70  Product_2  500 Million - 1 Billion   \n",
       "\n",
       "  Fund_category Geography          POC_name Lead_source Level_of_meeting  \\\n",
       "0    Category 2     India             nirma      Others          Level 1   \n",
       "1    Category 1     India              ritu      Others          Level 1   \n",
       "2    Category 2       USA   Michele Coleman     Website          Level 1   \n",
       "3    Category 3     India              rani     Website          Level 1   \n",
       "4    Category 4       USA  Candice Sheppard      Others          Level 3   \n",
       "\n",
       "                       Resource  Internal_rating  Success_probability  \n",
       "0                            No                1                 58.6  \n",
       "1  We have all the requirements                1                 60.1  \n",
       "2  We have all the requirements                2                 66.0  \n",
       "3  We have all the requirements                3                 62.6  \n",
       "4                   Deliverable                4                 71.2  "
      ]
     },
     "execution_count": 39,
     "metadata": {},
     "output_type": "execute_result"
    }
   ],
   "source": [
    "train_df.head()"
   ]
  },
  {
   "cell_type": "code",
   "execution_count": 40,
   "id": "d10f8148",
   "metadata": {},
   "outputs": [],
   "source": [
    "train_df['Deal_value(Dollars)'] = train_df['Deal_value'].rename({'Deal_value' :'Deal_value(Dollars)'})"
   ]
  },
  {
   "cell_type": "code",
   "execution_count": 41,
   "id": "81c73a6f",
   "metadata": {},
   "outputs": [],
   "source": [
    "train_df['Weighted_amount(Dollars)'] = train_df['Weighted_amount'].rename({'Weighted_amount' :'Weighted_amount(Dollars)'})"
   ]
  },
  {
   "cell_type": "code",
   "execution_count": 42,
   "id": "d16cf520",
   "metadata": {},
   "outputs": [
    {
     "data": {
      "text/html": [
       "<div>\n",
       "<style scoped>\n",
       "    .dataframe tbody tr th:only-of-type {\n",
       "        vertical-align: middle;\n",
       "    }\n",
       "\n",
       "    .dataframe tbody tr th {\n",
       "        vertical-align: top;\n",
       "    }\n",
       "\n",
       "    .dataframe thead th {\n",
       "        text-align: right;\n",
       "    }\n",
       "</style>\n",
       "<table border=\"1\" class=\"dataframe\">\n",
       "  <thead>\n",
       "    <tr style=\"text-align: right;\">\n",
       "      <th></th>\n",
       "      <th>Deal_value</th>\n",
       "      <th>Weighted_amount</th>\n",
       "      <th>Pitch</th>\n",
       "      <th>Lead_revenue</th>\n",
       "      <th>Fund_category</th>\n",
       "      <th>Geography</th>\n",
       "      <th>POC_name</th>\n",
       "      <th>Lead_source</th>\n",
       "      <th>Level_of_meeting</th>\n",
       "      <th>Resource</th>\n",
       "      <th>Internal_rating</th>\n",
       "      <th>Success_probability</th>\n",
       "      <th>Deal_value(Dollars)</th>\n",
       "      <th>Weighted_amount(Dollars)</th>\n",
       "    </tr>\n",
       "  </thead>\n",
       "  <tbody>\n",
       "    <tr>\n",
       "      <th>0</th>\n",
       "      <td>325362.0</td>\n",
       "      <td>1756954.80</td>\n",
       "      <td>Product_2</td>\n",
       "      <td>500 Million - 1 Billion</td>\n",
       "      <td>Category 2</td>\n",
       "      <td>India</td>\n",
       "      <td>nirma</td>\n",
       "      <td>Others</td>\n",
       "      <td>Level 1</td>\n",
       "      <td>No</td>\n",
       "      <td>1</td>\n",
       "      <td>58.6</td>\n",
       "      <td>325362.0</td>\n",
       "      <td>1756954.80</td>\n",
       "    </tr>\n",
       "    <tr>\n",
       "      <th>1</th>\n",
       "      <td>492285.0</td>\n",
       "      <td>2904481.50</td>\n",
       "      <td>Product_1</td>\n",
       "      <td>500 Million - 1 Billion</td>\n",
       "      <td>Category 1</td>\n",
       "      <td>India</td>\n",
       "      <td>ritu</td>\n",
       "      <td>Others</td>\n",
       "      <td>Level 1</td>\n",
       "      <td>We have all the requirements</td>\n",
       "      <td>1</td>\n",
       "      <td>60.1</td>\n",
       "      <td>492285.0</td>\n",
       "      <td>2904481.50</td>\n",
       "    </tr>\n",
       "    <tr>\n",
       "      <th>2</th>\n",
       "      <td>304513.0</td>\n",
       "      <td>1735724.10</td>\n",
       "      <td>Product_2</td>\n",
       "      <td>50 - 100 Million</td>\n",
       "      <td>Category 2</td>\n",
       "      <td>USA</td>\n",
       "      <td>Michele Coleman</td>\n",
       "      <td>Website</td>\n",
       "      <td>Level 1</td>\n",
       "      <td>We have all the requirements</td>\n",
       "      <td>2</td>\n",
       "      <td>66.0</td>\n",
       "      <td>304513.0</td>\n",
       "      <td>1735724.10</td>\n",
       "    </tr>\n",
       "    <tr>\n",
       "      <th>3</th>\n",
       "      <td>121985.0</td>\n",
       "      <td>532115.65</td>\n",
       "      <td>Product_2</td>\n",
       "      <td>500 Million - 1 Billion</td>\n",
       "      <td>Category 3</td>\n",
       "      <td>India</td>\n",
       "      <td>rani</td>\n",
       "      <td>Website</td>\n",
       "      <td>Level 1</td>\n",
       "      <td>We have all the requirements</td>\n",
       "      <td>3</td>\n",
       "      <td>62.6</td>\n",
       "      <td>121985.0</td>\n",
       "      <td>532115.65</td>\n",
       "    </tr>\n",
       "    <tr>\n",
       "      <th>4</th>\n",
       "      <td>183462.0</td>\n",
       "      <td>1256714.70</td>\n",
       "      <td>Product_2</td>\n",
       "      <td>500 Million - 1 Billion</td>\n",
       "      <td>Category 4</td>\n",
       "      <td>USA</td>\n",
       "      <td>Candice Sheppard</td>\n",
       "      <td>Others</td>\n",
       "      <td>Level 3</td>\n",
       "      <td>Deliverable</td>\n",
       "      <td>4</td>\n",
       "      <td>71.2</td>\n",
       "      <td>183462.0</td>\n",
       "      <td>1256714.70</td>\n",
       "    </tr>\n",
       "  </tbody>\n",
       "</table>\n",
       "</div>"
      ],
      "text/plain": [
       "   Deal_value  Weighted_amount      Pitch             Lead_revenue  \\\n",
       "0    325362.0       1756954.80  Product_2  500 Million - 1 Billion   \n",
       "1    492285.0       2904481.50  Product_1  500 Million - 1 Billion   \n",
       "2    304513.0       1735724.10  Product_2         50 - 100 Million   \n",
       "3    121985.0        532115.65  Product_2  500 Million - 1 Billion   \n",
       "4    183462.0       1256714.70  Product_2  500 Million - 1 Billion   \n",
       "\n",
       "  Fund_category Geography          POC_name Lead_source Level_of_meeting  \\\n",
       "0    Category 2     India             nirma      Others          Level 1   \n",
       "1    Category 1     India              ritu      Others          Level 1   \n",
       "2    Category 2       USA   Michele Coleman     Website          Level 1   \n",
       "3    Category 3     India              rani     Website          Level 1   \n",
       "4    Category 4       USA  Candice Sheppard      Others          Level 3   \n",
       "\n",
       "                       Resource  Internal_rating  Success_probability  \\\n",
       "0                            No                1                 58.6   \n",
       "1  We have all the requirements                1                 60.1   \n",
       "2  We have all the requirements                2                 66.0   \n",
       "3  We have all the requirements                3                 62.6   \n",
       "4                   Deliverable                4                 71.2   \n",
       "\n",
       "   Deal_value(Dollars)  Weighted_amount(Dollars)  \n",
       "0             325362.0                1756954.80  \n",
       "1             492285.0                2904481.50  \n",
       "2             304513.0                1735724.10  \n",
       "3             121985.0                 532115.65  \n",
       "4             183462.0                1256714.70  "
      ]
     },
     "execution_count": 42,
     "metadata": {},
     "output_type": "execute_result"
    }
   ],
   "source": [
    "train_df.head()"
   ]
  },
  {
   "cell_type": "code",
   "execution_count": 43,
   "id": "844a91f0",
   "metadata": {},
   "outputs": [],
   "source": [
    "train_df.drop(['Deal_value', 'Weighted_amount'], axis = 1, inplace = True)"
   ]
  },
  {
   "cell_type": "code",
   "execution_count": 44,
   "id": "de435aae",
   "metadata": {},
   "outputs": [],
   "source": [
    "train_df.drop('POC_name', axis = 1, inplace = True)"
   ]
  },
  {
   "cell_type": "code",
   "execution_count": 45,
   "id": "06cacd6e",
   "metadata": {},
   "outputs": [
    {
     "data": {
      "text/plain": [
       "<AxesSubplot:xlabel='Lead_revenue', ylabel='count'>"
      ]
     },
     "execution_count": 45,
     "metadata": {},
     "output_type": "execute_result"
    },
    {
     "data": {
      "image/png": "[encoded data removed]",
      "text/plain": [
       "<Figure size 640x480 with 1 Axes>"
      ]
     },
     "metadata": {},
     "output_type": "display_data"
    }
   ],
   "source": [
    "sns.countplot(data = train_df, x = 'Lead_revenue', hue = 'Geography')"
   ]
  },
  {
   "cell_type": "code",
   "execution_count": 46,
   "id": "9c22cd71",
   "metadata": {},
   "outputs": [
    {
     "data": {
      "text/plain": [
       "<AxesSubplot:xlabel='Fund_category', ylabel='Success_probability'>"
      ]
     },
     "execution_count": 46,
     "metadata": {},
     "output_type": "execute_result"
    },
    {
     "data": {
      "image/png": "[encoded data removed]",
      "text/plain": [
       "<Figure size 640x480 with 1 Axes>"
      ]
     },
     "metadata": {},
     "output_type": "display_data"
    }
   ],
   "source": [
    "sns.barplot(data = train_df, x = 'Fund_category', y = 'Success_probability', ci = None)"
   ]
  },
  {
   "cell_type": "code",
   "execution_count": 47,
   "id": "549a03b5",
   "metadata": {},
   "outputs": [
    {
     "data": {
      "text/html": [
       "<div>\n",
       "<style scoped>\n",
       "    .dataframe tbody tr th:only-of-type {\n",
       "        vertical-align: middle;\n",
       "    }\n",
       "\n",
       "    .dataframe tbody tr th {\n",
       "        vertical-align: top;\n",
       "    }\n",
       "\n",
       "    .dataframe thead th {\n",
       "        text-align: right;\n",
       "    }\n",
       "</style>\n",
       "<table border=\"1\" class=\"dataframe\">\n",
       "  <thead>\n",
       "    <tr style=\"text-align: right;\">\n",
       "      <th></th>\n",
       "      <th>Pitch</th>\n",
       "      <th>Lead_revenue</th>\n",
       "      <th>Fund_category</th>\n",
       "      <th>Geography</th>\n",
       "      <th>Lead_source</th>\n",
       "      <th>Level_of_meeting</th>\n",
       "      <th>Resource</th>\n",
       "      <th>Internal_rating</th>\n",
       "      <th>Success_probability</th>\n",
       "      <th>Deal_value(Dollars)</th>\n",
       "      <th>Weighted_amount(Dollars)</th>\n",
       "    </tr>\n",
       "  </thead>\n",
       "  <tbody>\n",
       "    <tr>\n",
       "      <th>0</th>\n",
       "      <td>Product_2</td>\n",
       "      <td>500 Million - 1 Billion</td>\n",
       "      <td>Category 2</td>\n",
       "      <td>India</td>\n",
       "      <td>Others</td>\n",
       "      <td>Level 1</td>\n",
       "      <td>No</td>\n",
       "      <td>1</td>\n",
       "      <td>58.6</td>\n",
       "      <td>325362.0</td>\n",
       "      <td>1756954.80</td>\n",
       "    </tr>\n",
       "    <tr>\n",
       "      <th>1</th>\n",
       "      <td>Product_1</td>\n",
       "      <td>500 Million - 1 Billion</td>\n",
       "      <td>Category 1</td>\n",
       "      <td>India</td>\n",
       "      <td>Others</td>\n",
       "      <td>Level 1</td>\n",
       "      <td>We have all the requirements</td>\n",
       "      <td>1</td>\n",
       "      <td>60.1</td>\n",
       "      <td>492285.0</td>\n",
       "      <td>2904481.50</td>\n",
       "    </tr>\n",
       "    <tr>\n",
       "      <th>2</th>\n",
       "      <td>Product_2</td>\n",
       "      <td>50 - 100 Million</td>\n",
       "      <td>Category 2</td>\n",
       "      <td>USA</td>\n",
       "      <td>Website</td>\n",
       "      <td>Level 1</td>\n",
       "      <td>We have all the requirements</td>\n",
       "      <td>2</td>\n",
       "      <td>66.0</td>\n",
       "      <td>304513.0</td>\n",
       "      <td>1735724.10</td>\n",
       "    </tr>\n",
       "    <tr>\n",
       "      <th>3</th>\n",
       "      <td>Product_2</td>\n",
       "      <td>500 Million - 1 Billion</td>\n",
       "      <td>Category 3</td>\n",
       "      <td>India</td>\n",
       "      <td>Website</td>\n",
       "      <td>Level 1</td>\n",
       "      <td>We have all the requirements</td>\n",
       "      <td>3</td>\n",
       "      <td>62.6</td>\n",
       "      <td>121985.0</td>\n",
       "      <td>532115.65</td>\n",
       "    </tr>\n",
       "    <tr>\n",
       "      <th>4</th>\n",
       "      <td>Product_2</td>\n",
       "      <td>500 Million - 1 Billion</td>\n",
       "      <td>Category 4</td>\n",
       "      <td>USA</td>\n",
       "      <td>Others</td>\n",
       "      <td>Level 3</td>\n",
       "      <td>Deliverable</td>\n",
       "      <td>4</td>\n",
       "      <td>71.2</td>\n",
       "      <td>183462.0</td>\n",
       "      <td>1256714.70</td>\n",
       "    </tr>\n",
       "  </tbody>\n",
       "</table>\n",
       "</div>"
      ],
      "text/plain": [
       "       Pitch             Lead_revenue Fund_category Geography Lead_source  \\\n",
       "0  Product_2  500 Million - 1 Billion    Category 2     India      Others   \n",
       "1  Product_1  500 Million - 1 Billion    Category 1     India      Others   \n",
       "2  Product_2         50 - 100 Million    Category 2       USA     Website   \n",
       "3  Product_2  500 Million - 1 Billion    Category 3     India     Website   \n",
       "4  Product_2  500 Million - 1 Billion    Category 4       USA      Others   \n",
       "\n",
       "  Level_of_meeting                      Resource  Internal_rating  \\\n",
       "0          Level 1                            No                1   \n",
       "1          Level 1  We have all the requirements                1   \n",
       "2          Level 1  We have all the requirements                2   \n",
       "3          Level 1  We have all the requirements                3   \n",
       "4          Level 3                   Deliverable                4   \n",
       "\n",
       "   Success_probability  Deal_value(Dollars)  Weighted_amount(Dollars)  \n",
       "0                 58.6             325362.0                1756954.80  \n",
       "1                 60.1             492285.0                2904481.50  \n",
       "2                 66.0             304513.0                1735724.10  \n",
       "3                 62.6             121985.0                 532115.65  \n",
       "4                 71.2             183462.0                1256714.70  "
      ]
     },
     "execution_count": 47,
     "metadata": {},
     "output_type": "execute_result"
    }
   ],
   "source": [
    "train_df.head()"
   ]
  },
  {
   "cell_type": "code",
   "execution_count": 48,
   "id": "1cc4b7e9",
   "metadata": {},
   "outputs": [
    {
     "data": {
      "text/plain": [
       "Product_2    2811\n",
       "Product_1    2794\n",
       "Name: Pitch, dtype: int64"
      ]
     },
     "execution_count": 48,
     "metadata": {},
     "output_type": "execute_result"
    }
   ],
   "source": [
    "train_df['Pitch'].value_counts()"
   ]
  },
  {
   "cell_type": "code",
   "execution_count": 49,
   "id": "95028023",
   "metadata": {},
   "outputs": [],
   "source": [
    "train_df['Pitch'] = train_df['Pitch'].map({'Product_1' :0, 'Product_2' : 1})"
   ]
  },
  {
   "cell_type": "code",
   "execution_count": 50,
   "id": "f873e503",
   "metadata": {},
   "outputs": [
    {
     "data": {
      "text/plain": [
       "500 Million - 1 Billion    1898\n",
       "100 - 500 Million          1895\n",
       "50 - 100 Million           1812\n",
       "Name: Lead_revenue, dtype: int64"
      ]
     },
     "execution_count": 50,
     "metadata": {},
     "output_type": "execute_result"
    }
   ],
   "source": [
    "train_df['Lead_revenue'].value_counts()"
   ]
  },
  {
   "cell_type": "code",
   "execution_count": 51,
   "id": "936233ba",
   "metadata": {},
   "outputs": [],
   "source": [
    "train_df['Lead_revenue'] = train_df['Lead_revenue'].map({'500 Million - 1 Billion' :0, '100 - 500 Million' : 1,\n",
    "                                                        '50 - 100 Million' : 2})"
   ]
  },
  {
   "cell_type": "code",
   "execution_count": 52,
   "id": "bf4549ea",
   "metadata": {},
   "outputs": [
    {
     "data": {
      "text/plain": [
       "Category 2    1446\n",
       "Category 3    1438\n",
       "Category 1    1388\n",
       "Category 4    1333\n",
       "Name: Fund_category, dtype: int64"
      ]
     },
     "execution_count": 52,
     "metadata": {},
     "output_type": "execute_result"
    }
   ],
   "source": [
    "train_df['Fund_category'].value_counts()"
   ]
  },
  {
   "cell_type": "code",
   "execution_count": 53,
   "id": "b67e0bb3",
   "metadata": {},
   "outputs": [],
   "source": [
    "train_df['Fund_category'] = train_df['Fund_category'].map({'Category 2' :0, 'Category 3' :1, 'Category 1' :2,\n",
    "                                                          'Category 4' :3})"
   ]
  },
  {
   "cell_type": "code",
   "execution_count": 54,
   "id": "3d2024b2",
   "metadata": {},
   "outputs": [
    {
     "data": {
      "text/plain": [
       "USA      3214\n",
       "India    2391\n",
       "Name: Geography, dtype: int64"
      ]
     },
     "execution_count": 54,
     "metadata": {},
     "output_type": "execute_result"
    }
   ],
   "source": [
    "train_df['Geography'].value_counts()"
   ]
  },
  {
   "cell_type": "code",
   "execution_count": 55,
   "id": "21b6c454",
   "metadata": {},
   "outputs": [],
   "source": [
    "train_df['Geography'] = train_df['Geography'].map({'USA' :0, 'India' :1})"
   ]
  },
  {
   "cell_type": "code",
   "execution_count": 56,
   "id": "fb80b40a",
   "metadata": {},
   "outputs": [
    {
     "data": {
      "text/plain": [
       "Marketing Event    1477\n",
       "Others             1424\n",
       "Contact Email      1379\n",
       "Website            1325\n",
       "Name: Lead_source, dtype: int64"
      ]
     },
     "execution_count": 56,
     "metadata": {},
     "output_type": "execute_result"
    }
   ],
   "source": [
    "train_df['Lead_source'].value_counts()"
   ]
  },
  {
   "cell_type": "code",
   "execution_count": 57,
   "id": "6ad03a58",
   "metadata": {},
   "outputs": [],
   "source": [
    "train_df['Lead_source'] = train_df['Lead_source'].map({'Marketing Event' :0, 'Others' :1, 'Contact Email' :2,\n",
    "                                                      'Website' :3})"
   ]
  },
  {
   "cell_type": "code",
   "execution_count": 58,
   "id": "36e860e6",
   "metadata": {},
   "outputs": [
    {
     "data": {
      "text/plain": [
       "Level 1    1938\n",
       "Level 2    1835\n",
       "Level 3    1832\n",
       "Name: Level_of_meeting, dtype: int64"
      ]
     },
     "execution_count": 58,
     "metadata": {},
     "output_type": "execute_result"
    }
   ],
   "source": [
    "train_df['Level_of_meeting'].value_counts()"
   ]
  },
  {
   "cell_type": "code",
   "execution_count": 59,
   "id": "2bd679a9",
   "metadata": {},
   "outputs": [],
   "source": [
    "train_df['Level_of_meeting'] = train_df['Level_of_meeting'].map({'Level 1' :0, 'Level 2' :1, 'Level 3' :2})"
   ]
  },
  {
   "cell_type": "code",
   "execution_count": 60,
   "id": "ad69cadc",
   "metadata": {},
   "outputs": [
    {
     "data": {
      "text/plain": [
       "No                              1074\n",
       "We have all the requirements     932\n",
       "Not enough                       910\n",
       "Deliverable                      906\n",
       "Cannot deliver                   902\n",
       "Yes                              881\n",
       "Name: Resource, dtype: int64"
      ]
     },
     "execution_count": 60,
     "metadata": {},
     "output_type": "execute_result"
    }
   ],
   "source": [
    "train_df['Resource'].value_counts()  #drop"
   ]
  },
  {
   "cell_type": "code",
   "execution_count": 61,
   "id": "bd1671dc",
   "metadata": {},
   "outputs": [],
   "source": [
    "#train_df= pd.get_dummies(data = train_df, columns = ['Resource'])\n",
    "train_df.drop('Resource', axis = 1, inplace = True)"
   ]
  },
  {
   "cell_type": "code",
   "execution_count": 62,
   "id": "18837eea",
   "metadata": {},
   "outputs": [
    {
     "data": {
      "text/html": [
       "<div>\n",
       "<style scoped>\n",
       "    .dataframe tbody tr th:only-of-type {\n",
       "        vertical-align: middle;\n",
       "    }\n",
       "\n",
       "    .dataframe tbody tr th {\n",
       "        vertical-align: top;\n",
       "    }\n",
       "\n",
       "    .dataframe thead th {\n",
       "        text-align: right;\n",
       "    }\n",
       "</style>\n",
       "<table border=\"1\" class=\"dataframe\">\n",
       "  <thead>\n",
       "    <tr style=\"text-align: right;\">\n",
       "      <th></th>\n",
       "      <th>Pitch</th>\n",
       "      <th>Lead_revenue</th>\n",
       "      <th>Fund_category</th>\n",
       "      <th>Geography</th>\n",
       "      <th>Lead_source</th>\n",
       "      <th>Level_of_meeting</th>\n",
       "      <th>Internal_rating</th>\n",
       "      <th>Success_probability</th>\n",
       "      <th>Deal_value(Dollars)</th>\n",
       "      <th>Weighted_amount(Dollars)</th>\n",
       "    </tr>\n",
       "  </thead>\n",
       "  <tbody>\n",
       "    <tr>\n",
       "      <th>0</th>\n",
       "      <td>1</td>\n",
       "      <td>0</td>\n",
       "      <td>0</td>\n",
       "      <td>1</td>\n",
       "      <td>1</td>\n",
       "      <td>0</td>\n",
       "      <td>1</td>\n",
       "      <td>58.6</td>\n",
       "      <td>325362.0</td>\n",
       "      <td>1756954.80</td>\n",
       "    </tr>\n",
       "    <tr>\n",
       "      <th>1</th>\n",
       "      <td>0</td>\n",
       "      <td>0</td>\n",
       "      <td>2</td>\n",
       "      <td>1</td>\n",
       "      <td>1</td>\n",
       "      <td>0</td>\n",
       "      <td>1</td>\n",
       "      <td>60.1</td>\n",
       "      <td>492285.0</td>\n",
       "      <td>2904481.50</td>\n",
       "    </tr>\n",
       "    <tr>\n",
       "      <th>2</th>\n",
       "      <td>1</td>\n",
       "      <td>2</td>\n",
       "      <td>0</td>\n",
       "      <td>0</td>\n",
       "      <td>3</td>\n",
       "      <td>0</td>\n",
       "      <td>2</td>\n",
       "      <td>66.0</td>\n",
       "      <td>304513.0</td>\n",
       "      <td>1735724.10</td>\n",
       "    </tr>\n",
       "    <tr>\n",
       "      <th>3</th>\n",
       "      <td>1</td>\n",
       "      <td>0</td>\n",
       "      <td>1</td>\n",
       "      <td>1</td>\n",
       "      <td>3</td>\n",
       "      <td>0</td>\n",
       "      <td>3</td>\n",
       "      <td>62.6</td>\n",
       "      <td>121985.0</td>\n",
       "      <td>532115.65</td>\n",
       "    </tr>\n",
       "    <tr>\n",
       "      <th>4</th>\n",
       "      <td>1</td>\n",
       "      <td>0</td>\n",
       "      <td>3</td>\n",
       "      <td>0</td>\n",
       "      <td>1</td>\n",
       "      <td>2</td>\n",
       "      <td>4</td>\n",
       "      <td>71.2</td>\n",
       "      <td>183462.0</td>\n",
       "      <td>1256714.70</td>\n",
       "    </tr>\n",
       "  </tbody>\n",
       "</table>\n",
       "</div>"
      ],
      "text/plain": [
       "   Pitch  Lead_revenue  Fund_category  Geography  Lead_source  \\\n",
       "0      1             0              0          1            1   \n",
       "1      0             0              2          1            1   \n",
       "2      1             2              0          0            3   \n",
       "3      1             0              1          1            3   \n",
       "4      1             0              3          0            1   \n",
       "\n",
       "   Level_of_meeting  Internal_rating  Success_probability  \\\n",
       "0                 0                1                 58.6   \n",
       "1                 0                1                 60.1   \n",
       "2                 0                2                 66.0   \n",
       "3                 0                3                 62.6   \n",
       "4                 2                4                 71.2   \n",
       "\n",
       "   Deal_value(Dollars)  Weighted_amount(Dollars)  \n",
       "0             325362.0                1756954.80  \n",
       "1             492285.0                2904481.50  \n",
       "2             304513.0                1735724.10  \n",
       "3             121985.0                 532115.65  \n",
       "4             183462.0                1256714.70  "
      ]
     },
     "execution_count": 62,
     "metadata": {},
     "output_type": "execute_result"
    }
   ],
   "source": [
    "train_df.head()"
   ]
  },
  {
   "cell_type": "code",
   "execution_count": 63,
   "id": "18d48e5c",
   "metadata": {},
   "outputs": [
    {
     "data": {
      "image/png": "[encoded data removed]",
      "text/plain": [
       "<Figure size 2000x2000 with 2 Axes>"
      ]
     },
     "metadata": {},
     "output_type": "display_data"
    }
   ],
   "source": [
    "figure = plt.figure(figsize=[20, 20])\n",
    "sns.heatmap(data=train_df.corr(), annot=True)\n",
    "plt.xticks(size=12, rotation=90)\n",
    "plt.yticks(size=12)\n",
    "plt.xlabel(xlabel='Feature Space X', size=14)\n",
    "plt.ylabel(ylabel='Feature Space Y', size=14)\n",
    "plt.title(label='Correlation of Features', size=16)\n",
    "plt.show()"
   ]
  },
  {
   "cell_type": "code",
   "execution_count": 64,
   "id": "810265f5",
   "metadata": {},
   "outputs": [
    {
     "name": "stdout",
     "output_type": "stream",
     "text": [
      "Pitch\n"
     ]
    },
    {
     "data": {
      "image/png": "[encoded data removed]",
      "text/plain": [
       "<Figure size 640x480 with 1 Axes>"
      ]
     },
     "metadata": {},
     "output_type": "display_data"
    },
    {
     "name": "stdout",
     "output_type": "stream",
     "text": [
      "Lead_revenue\n"
     ]
    },
    {
     "data": {
      "image/png": "[encoded data removed]",
      "text/plain": [
       "<Figure size 640x480 with 1 Axes>"
      ]
     },
     "metadata": {},
     "output_type": "display_data"
    },
    {
     "name": "stdout",
     "output_type": "stream",
     "text": [
      "Fund_category\n"
     ]
    },
    {
     "data": {
      "image/png": "[encoded data removed]",
      "text/plain": [
       "<Figure size 640x480 with 1 Axes>"
      ]
     },
     "metadata": {},
     "output_type": "display_data"
    },
    {
     "name": "stdout",
     "output_type": "stream",
     "text": [
      "Geography\n"
     ]
    },
    {
     "data": {
      "image/png": "[encoded data removed]",
      "text/plain": [
       "<Figure size 640x480 with 1 Axes>"
      ]
     },
     "metadata": {},
     "output_type": "display_data"
    },
    {
     "name": "stdout",
     "output_type": "stream",
     "text": [
      "Lead_source\n"
     ]
    },
    {
     "data": {
      "image/png": "[encoded data removed]",
      "text/plain": [
       "<Figure size 640x480 with 1 Axes>"
      ]
     },
     "metadata": {},
     "output_type": "display_data"
    },
    {
     "name": "stdout",
     "output_type": "stream",
     "text": [
      "Level_of_meeting\n"
     ]
    },
    {
     "data": {
      "image/png": "[encoded data removed]",
      "text/plain": [
       "<Figure size 640x480 with 1 Axes>"
      ]
     },
     "metadata": {},
     "output_type": "display_data"
    },
    {
     "name": "stdout",
     "output_type": "stream",
     "text": [
      "Internal_rating\n"
     ]
    },
    {
     "data": {
      "image/png": "[encoded data removed]",
      "text/plain": [
       "<Figure size 640x480 with 1 Axes>"
      ]
     },
     "metadata": {},
     "output_type": "display_data"
    },
    {
     "name": "stdout",
     "output_type": "stream",
     "text": [
      "Success_probability\n"
     ]
    },
    {
     "data": {
      "image/png": "[encoded data removed]",
      "text/plain": [
       "<Figure size 640x480 with 1 Axes>"
      ]
     },
     "metadata": {},
     "output_type": "display_data"
    },
    {
     "name": "stdout",
     "output_type": "stream",
     "text": [
      "Deal_value(Dollars)\n"
     ]
    },
    {
     "data": {
      "image/png": "[encoded data removed]",
      "text/plain": [
       "<Figure size 640x480 with 1 Axes>"
      ]
     },
     "metadata": {},
     "output_type": "display_data"
    },
    {
     "name": "stdout",
     "output_type": "stream",
     "text": [
      "Weighted_amount(Dollars)\n"
     ]
    },
    {
     "data": {
      "image/png": "[encoded data removed]",
      "text/plain": [
       "<Figure size 640x480 with 1 Axes>"
      ]
     },
     "metadata": {},
     "output_type": "display_data"
    }
   ],
   "source": [
    "for col in train_df.iloc[:,:].columns:\n",
    "    print(col)\n",
    "    sns.boxplot(x = train_df[col], data = train_df, color = 'red')\n",
    "    plt.show()"
   ]
  },
  {
   "cell_type": "code",
   "execution_count": 65,
   "id": "1f79e501",
   "metadata": {},
   "outputs": [
    {
     "data": {
      "text/plain": [
       "<AxesSubplot:xlabel='Success_probability', ylabel='Density'>"
      ]
     },
     "execution_count": 65,
     "metadata": {},
     "output_type": "execute_result"
    },
    {
     "data": {
      "image/png": "[encoded data removed]",
      "text/plain": [
       "<Figure size 640x480 with 1 Axes>"
      ]
     },
     "metadata": {},
     "output_type": "display_data"
    }
   ],
   "source": [
    "sns.distplot(train_df['Success_probability'])"
   ]
  },
  {
   "cell_type": "code",
   "execution_count": 66,
   "id": "e44adca6",
   "metadata": {},
   "outputs": [],
   "source": [
    "#log transformation on Target column\n",
    "train_df['Success_probability'] = np.log(train_df['Success_probability'])"
   ]
  },
  {
   "cell_type": "code",
   "execution_count": 67,
   "id": "df67aa28",
   "metadata": {},
   "outputs": [
    {
     "data": {
      "text/plain": [
       "<AxesSubplot:xlabel='Success_probability', ylabel='Density'>"
      ]
     },
     "execution_count": 67,
     "metadata": {},
     "output_type": "execute_result"
    },
    {
     "data": {
      "image/png": "[encoded data removed]",
      "text/plain": [
       "<Figure size 640x480 with 1 Axes>"
      ]
     },
     "metadata": {},
     "output_type": "display_data"
    }
   ],
   "source": [
    "sns.distplot(train_df['Success_probability'])"
   ]
  },
  {
   "cell_type": "code",
   "execution_count": 68,
   "id": "f478485b",
   "metadata": {},
   "outputs": [
    {
     "data": {
      "text/html": [
       "<div>\n",
       "<style scoped>\n",
       "    .dataframe tbody tr th:only-of-type {\n",
       "        vertical-align: middle;\n",
       "    }\n",
       "\n",
       "    .dataframe tbody tr th {\n",
       "        vertical-align: top;\n",
       "    }\n",
       "\n",
       "    .dataframe thead th {\n",
       "        text-align: right;\n",
       "    }\n",
       "</style>\n",
       "<table border=\"1\" class=\"dataframe\">\n",
       "  <thead>\n",
       "    <tr style=\"text-align: right;\">\n",
       "      <th></th>\n",
       "      <th>Pitch</th>\n",
       "      <th>Lead_revenue</th>\n",
       "      <th>Fund_category</th>\n",
       "      <th>Geography</th>\n",
       "      <th>Lead_source</th>\n",
       "      <th>Level_of_meeting</th>\n",
       "      <th>Internal_rating</th>\n",
       "      <th>Success_probability</th>\n",
       "      <th>Deal_value(Dollars)</th>\n",
       "      <th>Weighted_amount(Dollars)</th>\n",
       "    </tr>\n",
       "  </thead>\n",
       "  <tbody>\n",
       "    <tr>\n",
       "      <th>0</th>\n",
       "      <td>1</td>\n",
       "      <td>0</td>\n",
       "      <td>0</td>\n",
       "      <td>1</td>\n",
       "      <td>1</td>\n",
       "      <td>0</td>\n",
       "      <td>1</td>\n",
       "      <td>4.070735</td>\n",
       "      <td>325362.0</td>\n",
       "      <td>1756954.80</td>\n",
       "    </tr>\n",
       "    <tr>\n",
       "      <th>1</th>\n",
       "      <td>0</td>\n",
       "      <td>0</td>\n",
       "      <td>2</td>\n",
       "      <td>1</td>\n",
       "      <td>1</td>\n",
       "      <td>0</td>\n",
       "      <td>1</td>\n",
       "      <td>4.096010</td>\n",
       "      <td>492285.0</td>\n",
       "      <td>2904481.50</td>\n",
       "    </tr>\n",
       "    <tr>\n",
       "      <th>2</th>\n",
       "      <td>1</td>\n",
       "      <td>2</td>\n",
       "      <td>0</td>\n",
       "      <td>0</td>\n",
       "      <td>3</td>\n",
       "      <td>0</td>\n",
       "      <td>2</td>\n",
       "      <td>4.189655</td>\n",
       "      <td>304513.0</td>\n",
       "      <td>1735724.10</td>\n",
       "    </tr>\n",
       "    <tr>\n",
       "      <th>3</th>\n",
       "      <td>1</td>\n",
       "      <td>0</td>\n",
       "      <td>1</td>\n",
       "      <td>1</td>\n",
       "      <td>3</td>\n",
       "      <td>0</td>\n",
       "      <td>3</td>\n",
       "      <td>4.136765</td>\n",
       "      <td>121985.0</td>\n",
       "      <td>532115.65</td>\n",
       "    </tr>\n",
       "    <tr>\n",
       "      <th>4</th>\n",
       "      <td>1</td>\n",
       "      <td>0</td>\n",
       "      <td>3</td>\n",
       "      <td>0</td>\n",
       "      <td>1</td>\n",
       "      <td>2</td>\n",
       "      <td>4</td>\n",
       "      <td>4.265493</td>\n",
       "      <td>183462.0</td>\n",
       "      <td>1256714.70</td>\n",
       "    </tr>\n",
       "  </tbody>\n",
       "</table>\n",
       "</div>"
      ],
      "text/plain": [
       "   Pitch  Lead_revenue  Fund_category  Geography  Lead_source  \\\n",
       "0      1             0              0          1            1   \n",
       "1      0             0              2          1            1   \n",
       "2      1             2              0          0            3   \n",
       "3      1             0              1          1            3   \n",
       "4      1             0              3          0            1   \n",
       "\n",
       "   Level_of_meeting  Internal_rating  Success_probability  \\\n",
       "0                 0                1             4.070735   \n",
       "1                 0                1             4.096010   \n",
       "2                 0                2             4.189655   \n",
       "3                 0                3             4.136765   \n",
       "4                 2                4             4.265493   \n",
       "\n",
       "   Deal_value(Dollars)  Weighted_amount(Dollars)  \n",
       "0             325362.0                1756954.80  \n",
       "1             492285.0                2904481.50  \n",
       "2             304513.0                1735724.10  \n",
       "3             121985.0                 532115.65  \n",
       "4             183462.0                1256714.70  "
      ]
     },
     "execution_count": 68,
     "metadata": {},
     "output_type": "execute_result"
    }
   ],
   "source": [
    "train_df.head()"
   ]
  },
  {
   "cell_type": "code",
   "execution_count": 69,
   "id": "6529e142",
   "metadata": {},
   "outputs": [],
   "source": [
    "train_df = train_df.replace((np.inf, -np.inf, np.nan), 0).reset_index(drop=True)"
   ]
  },
  {
   "cell_type": "markdown",
   "id": "3f73be05",
   "metadata": {},
   "source": [
    "# Train-Test Split :"
   ]
  },
  {
   "cell_type": "code",
   "execution_count": 70,
   "id": "232a6dbb",
   "metadata": {},
   "outputs": [],
   "source": [
    "x = train_df.drop('Success_probability', axis = 1)\n",
    "y = train_df['Success_probability']"
   ]
  },
  {
   "cell_type": "code",
   "execution_count": 71,
   "id": "71e47426",
   "metadata": {},
   "outputs": [
    {
     "data": {
      "text/html": [
       "<div>\n",
       "<style scoped>\n",
       "    .dataframe tbody tr th:only-of-type {\n",
       "        vertical-align: middle;\n",
       "    }\n",
       "\n",
       "    .dataframe tbody tr th {\n",
       "        vertical-align: top;\n",
       "    }\n",
       "\n",
       "    .dataframe thead th {\n",
       "        text-align: right;\n",
       "    }\n",
       "</style>\n",
       "<table border=\"1\" class=\"dataframe\">\n",
       "  <thead>\n",
       "    <tr style=\"text-align: right;\">\n",
       "      <th></th>\n",
       "      <th>Pitch</th>\n",
       "      <th>Lead_revenue</th>\n",
       "      <th>Fund_category</th>\n",
       "      <th>Geography</th>\n",
       "      <th>Lead_source</th>\n",
       "      <th>Level_of_meeting</th>\n",
       "      <th>Internal_rating</th>\n",
       "      <th>Deal_value(Dollars)</th>\n",
       "      <th>Weighted_amount(Dollars)</th>\n",
       "    </tr>\n",
       "  </thead>\n",
       "  <tbody>\n",
       "    <tr>\n",
       "      <th>0</th>\n",
       "      <td>1</td>\n",
       "      <td>0</td>\n",
       "      <td>0</td>\n",
       "      <td>1</td>\n",
       "      <td>1</td>\n",
       "      <td>0</td>\n",
       "      <td>1</td>\n",
       "      <td>325362.0</td>\n",
       "      <td>1756954.80</td>\n",
       "    </tr>\n",
       "    <tr>\n",
       "      <th>1</th>\n",
       "      <td>0</td>\n",
       "      <td>0</td>\n",
       "      <td>2</td>\n",
       "      <td>1</td>\n",
       "      <td>1</td>\n",
       "      <td>0</td>\n",
       "      <td>1</td>\n",
       "      <td>492285.0</td>\n",
       "      <td>2904481.50</td>\n",
       "    </tr>\n",
       "    <tr>\n",
       "      <th>2</th>\n",
       "      <td>1</td>\n",
       "      <td>2</td>\n",
       "      <td>0</td>\n",
       "      <td>0</td>\n",
       "      <td>3</td>\n",
       "      <td>0</td>\n",
       "      <td>2</td>\n",
       "      <td>304513.0</td>\n",
       "      <td>1735724.10</td>\n",
       "    </tr>\n",
       "    <tr>\n",
       "      <th>3</th>\n",
       "      <td>1</td>\n",
       "      <td>0</td>\n",
       "      <td>1</td>\n",
       "      <td>1</td>\n",
       "      <td>3</td>\n",
       "      <td>0</td>\n",
       "      <td>3</td>\n",
       "      <td>121985.0</td>\n",
       "      <td>532115.65</td>\n",
       "    </tr>\n",
       "    <tr>\n",
       "      <th>4</th>\n",
       "      <td>1</td>\n",
       "      <td>0</td>\n",
       "      <td>3</td>\n",
       "      <td>0</td>\n",
       "      <td>1</td>\n",
       "      <td>2</td>\n",
       "      <td>4</td>\n",
       "      <td>183462.0</td>\n",
       "      <td>1256714.70</td>\n",
       "    </tr>\n",
       "    <tr>\n",
       "      <th>...</th>\n",
       "      <td>...</td>\n",
       "      <td>...</td>\n",
       "      <td>...</td>\n",
       "      <td>...</td>\n",
       "      <td>...</td>\n",
       "      <td>...</td>\n",
       "      <td>...</td>\n",
       "      <td>...</td>\n",
       "      <td>...</td>\n",
       "    </tr>\n",
       "    <tr>\n",
       "      <th>5600</th>\n",
       "      <td>1</td>\n",
       "      <td>1</td>\n",
       "      <td>1</td>\n",
       "      <td>0</td>\n",
       "      <td>2</td>\n",
       "      <td>2</td>\n",
       "      <td>2</td>\n",
       "      <td>271258.0</td>\n",
       "      <td>1722488.30</td>\n",
       "    </tr>\n",
       "    <tr>\n",
       "      <th>5601</th>\n",
       "      <td>0</td>\n",
       "      <td>2</td>\n",
       "      <td>1</td>\n",
       "      <td>1</td>\n",
       "      <td>2</td>\n",
       "      <td>0</td>\n",
       "      <td>2</td>\n",
       "      <td>255913.0</td>\n",
       "      <td>1394725.85</td>\n",
       "    </tr>\n",
       "    <tr>\n",
       "      <th>5602</th>\n",
       "      <td>1</td>\n",
       "      <td>2</td>\n",
       "      <td>3</td>\n",
       "      <td>1</td>\n",
       "      <td>1</td>\n",
       "      <td>0</td>\n",
       "      <td>1</td>\n",
       "      <td>119316.0</td>\n",
       "      <td>674135.40</td>\n",
       "    </tr>\n",
       "    <tr>\n",
       "      <th>5603</th>\n",
       "      <td>0</td>\n",
       "      <td>0</td>\n",
       "      <td>1</td>\n",
       "      <td>0</td>\n",
       "      <td>2</td>\n",
       "      <td>1</td>\n",
       "      <td>4</td>\n",
       "      <td>346955.0</td>\n",
       "      <td>2116425.50</td>\n",
       "    </tr>\n",
       "    <tr>\n",
       "      <th>5604</th>\n",
       "      <td>1</td>\n",
       "      <td>0</td>\n",
       "      <td>0</td>\n",
       "      <td>0</td>\n",
       "      <td>3</td>\n",
       "      <td>1</td>\n",
       "      <td>4</td>\n",
       "      <td>127019.0</td>\n",
       "      <td>806570.65</td>\n",
       "    </tr>\n",
       "  </tbody>\n",
       "</table>\n",
       "<p>5605 rows × 9 columns</p>\n",
       "</div>"
      ],
      "text/plain": [
       "      Pitch  Lead_revenue  Fund_category  Geography  Lead_source  \\\n",
       "0         1             0              0          1            1   \n",
       "1         0             0              2          1            1   \n",
       "2         1             2              0          0            3   \n",
       "3         1             0              1          1            3   \n",
       "4         1             0              3          0            1   \n",
       "...     ...           ...            ...        ...          ...   \n",
       "5600      1             1              1          0            2   \n",
       "5601      0             2              1          1            2   \n",
       "5602      1             2              3          1            1   \n",
       "5603      0             0              1          0            2   \n",
       "5604      1             0              0          0            3   \n",
       "\n",
       "      Level_of_meeting  Internal_rating  Deal_value(Dollars)  \\\n",
       "0                    0                1             325362.0   \n",
       "1                    0                1             492285.0   \n",
       "2                    0                2             304513.0   \n",
       "3                    0                3             121985.0   \n",
       "4                    2                4             183462.0   \n",
       "...                ...              ...                  ...   \n",
       "5600                 2                2             271258.0   \n",
       "5601                 0                2             255913.0   \n",
       "5602                 0                1             119316.0   \n",
       "5603                 1                4             346955.0   \n",
       "5604                 1                4             127019.0   \n",
       "\n",
       "      Weighted_amount(Dollars)  \n",
       "0                   1756954.80  \n",
       "1                   2904481.50  \n",
       "2                   1735724.10  \n",
       "3                    532115.65  \n",
       "4                   1256714.70  \n",
       "...                        ...  \n",
       "5600                1722488.30  \n",
       "5601                1394725.85  \n",
       "5602                 674135.40  \n",
       "5603                2116425.50  \n",
       "5604                 806570.65  \n",
       "\n",
       "[5605 rows x 9 columns]"
      ]
     },
     "execution_count": 71,
     "metadata": {},
     "output_type": "execute_result"
    }
   ],
   "source": [
    "x"
   ]
  },
  {
   "cell_type": "code",
   "execution_count": 72,
   "id": "ce73449a",
   "metadata": {},
   "outputs": [
    {
     "data": {
      "text/plain": [
       "0       4.070735\n",
       "1       4.096010\n",
       "2       4.189655\n",
       "3       4.136765\n",
       "4       4.265493\n",
       "          ...   \n",
       "5600    4.186620\n",
       "5601    3.987130\n",
       "5602    4.676001\n",
       "5603    4.105944\n",
       "5604    4.287716\n",
       "Name: Success_probability, Length: 5605, dtype: float64"
      ]
     },
     "execution_count": 72,
     "metadata": {},
     "output_type": "execute_result"
    }
   ],
   "source": [
    "y"
   ]
  },
  {
   "cell_type": "markdown",
   "id": "51a3cb02",
   "metadata": {},
   "source": [
    "# Feature Selection :"
   ]
  },
  {
   "cell_type": "code",
   "execution_count": 73,
   "id": "3a68f857",
   "metadata": {},
   "outputs": [
    {
     "name": "stdout",
     "output_type": "stream",
     "text": [
      "Total Features Selected are 2\n",
      "Threshold set by Model: 0.11\n",
      "Important Features: ['Deal_value(Dollars)', 'Weighted_amount(Dollars)']\n"
     ]
    }
   ],
   "source": [
    "from sklearn.feature_selection import SelectFromModel\n",
    "from sklearn.ensemble import RandomForestRegressor\n",
    "\n",
    "selector = SelectFromModel(estimator=RandomForestRegressor(n_estimators = 100, random_state = 42, n_jobs = -1))\n",
    "selector.fit(x, y)\n",
    "\n",
    "selected_feat = x.columns[(selector.get_support())].tolist()\n",
    "\n",
    "print('Total Features Selected are', len(selected_feat))\n",
    "\n",
    "print('Threshold set by Model:', np.round(selector.threshold_, decimals = 2))\n",
    "print('Important Features:', selected_feat)"
   ]
  },
  {
   "cell_type": "markdown",
   "id": "9ad6d883",
   "metadata": {},
   "source": [
    "# Feature Importance :"
   ]
  },
  {
   "cell_type": "code",
   "execution_count": 74,
   "id": "201272ca",
   "metadata": {},
   "outputs": [
    {
     "data": {
      "image/png": "[encoded data removed]",
      "text/plain": [
       "<Figure size 1500x800 with 1 Axes>"
      ]
     },
     "metadata": {},
     "output_type": "display_data"
    }
   ],
   "source": [
    "from yellowbrick.model_selection import FeatureImportances \n",
    "\n",
    "figure = plt.figure(figsize=[15, 8])\n",
    "viz = FeatureImportances(selector.estimator, relative=False)\n",
    "viz.fit(x, y)\n",
    "\n",
    "plt.xlabel('Relative Importance', size=14)\n",
    "plt.ylabel('Features', size=14)\n",
    "plt.title(label='Feature Importances', size=16)\n",
    "plt.show()"
   ]
  },
  {
   "cell_type": "code",
   "execution_count": 75,
   "id": "0000ae6c",
   "metadata": {},
   "outputs": [],
   "source": [
    "from sklearn.model_selection import train_test_split\n",
    "\n",
    "x_train, x_test, y_train, y_test = train_test_split(x,y, test_size =0.30, random_state = 42)"
   ]
  },
  {
   "cell_type": "code",
   "execution_count": 76,
   "id": "0bbb0e7f",
   "metadata": {},
   "outputs": [
    {
     "name": "stdout",
     "output_type": "stream",
     "text": [
      "(3923, 9)\n",
      "(1682, 9)\n",
      "(3923,)\n",
      "(1682,)\n"
     ]
    }
   ],
   "source": [
    "print(x_train.shape)\n",
    "print(x_test.shape)\n",
    "print(y_train.shape)\n",
    "print(y_test.shape)"
   ]
  },
  {
   "cell_type": "code",
   "execution_count": 77,
   "id": "216420ec",
   "metadata": {},
   "outputs": [],
   "source": [
    "#using StandardScaler :\n",
    "from sklearn.preprocessing import StandardScaler\n",
    "\n",
    "scaler = StandardScaler()\n",
    "\n",
    "\n",
    "x_train_ = scaler.fit_transform(x_train)\n",
    "x_test = scaler.transform(x_test)"
   ]
  },
  {
   "cell_type": "markdown",
   "id": "d95ad9f2",
   "metadata": {},
   "source": [
    "# Modelling :"
   ]
  },
  {
   "cell_type": "markdown",
   "id": "d2ddb05a",
   "metadata": {},
   "source": [
    "# Linear Regression :"
   ]
  },
  {
   "cell_type": "code",
   "execution_count": 78,
   "id": "b0ba15a9",
   "metadata": {},
   "outputs": [
    {
     "data": {
      "text/plain": [
       "LinearRegression()"
      ]
     },
     "execution_count": 78,
     "metadata": {},
     "output_type": "execute_result"
    }
   ],
   "source": [
    "from sklearn.linear_model import LinearRegression\n",
    "\n",
    "lin_reg = LinearRegression()\n",
    "lin_reg.fit(x_train, y_train)"
   ]
  },
  {
   "cell_type": "markdown",
   "id": "e98683de",
   "metadata": {},
   "source": [
    "**Model Evaluation :**"
   ]
  },
  {
   "cell_type": "code",
   "execution_count": 79,
   "id": "75d8e824",
   "metadata": {},
   "outputs": [],
   "source": [
    "y_pred_lin_train = lin_reg.predict(x_train)\n",
    "y_pred_lin_test = lin_reg.predict(x_test)"
   ]
  },
  {
   "cell_type": "code",
   "execution_count": 80,
   "id": "ef8d9dc3",
   "metadata": {},
   "outputs": [
    {
     "data": {
      "text/plain": [
       "0.2952807203870336"
      ]
     },
     "execution_count": 80,
     "metadata": {},
     "output_type": "execute_result"
    }
   ],
   "source": [
    "#RMSE score on train dataset\n",
    "RMSE_Linear_train = metrics.mean_squared_error(y_train, y_pred_lin_train)\n",
    "RMSE_Linear_train"
   ]
  },
  {
   "cell_type": "code",
   "execution_count": 81,
   "id": "e7c953c7",
   "metadata": {},
   "outputs": [
    {
     "data": {
      "text/plain": [
       "0.21156846986304947"
      ]
     },
     "execution_count": 81,
     "metadata": {},
     "output_type": "execute_result"
    }
   ],
   "source": [
    "#RMSE score on test dataset\n",
    "RMSE_Linear_test = metrics.mean_squared_error(y_test, y_pred_lin_test)\n",
    "RMSE_Linear_test"
   ]
  },
  {
   "cell_type": "markdown",
   "id": "18fe76a6",
   "metadata": {},
   "source": [
    "# Decision Tree Regressor :"
   ]
  },
  {
   "cell_type": "code",
   "execution_count": 82,
   "id": "e49d3312",
   "metadata": {},
   "outputs": [
    {
     "data": {
      "text/plain": [
       "DecisionTreeRegressor()"
      ]
     },
     "execution_count": 82,
     "metadata": {},
     "output_type": "execute_result"
    }
   ],
   "source": [
    "from sklearn.tree import DecisionTreeRegressor\n",
    "\n",
    "dtree = DecisionTreeRegressor()\n",
    "dtree.fit(x_train, y_train)"
   ]
  },
  {
   "cell_type": "markdown",
   "id": "a14e197d",
   "metadata": {},
   "source": [
    "**Model Evaluation :**"
   ]
  },
  {
   "cell_type": "code",
   "execution_count": 83,
   "id": "bec370a1",
   "metadata": {},
   "outputs": [],
   "source": [
    "y_pred_dtree_train = dtree.predict(x_train)\n",
    "y_pred_dtree_test = dtree.predict(x_test)"
   ]
  },
  {
   "cell_type": "code",
   "execution_count": 84,
   "id": "4fac5bc3",
   "metadata": {},
   "outputs": [
    {
     "data": {
      "text/plain": [
       "0.0"
      ]
     },
     "execution_count": 84,
     "metadata": {},
     "output_type": "execute_result"
    }
   ],
   "source": [
    "#RMSE score on train dataset\n",
    "RMSE_Dtree_train = metrics.mean_squared_error(y_train, y_pred_dtree_train)\n",
    "RMSE_Dtree_train"
   ]
  },
  {
   "cell_type": "code",
   "execution_count": 85,
   "id": "e1daafc0",
   "metadata": {},
   "outputs": [
    {
     "data": {
      "text/plain": [
       "0.6477284038625102"
      ]
     },
     "execution_count": 85,
     "metadata": {},
     "output_type": "execute_result"
    }
   ],
   "source": [
    "#RMSE score on test dataset\n",
    "RMSE_Dtree_test = metrics.mean_squared_error(y_test, y_pred_dtree_test)\n",
    "RMSE_Dtree_test"
   ]
  },
  {
   "cell_type": "markdown",
   "id": "92bf9afc",
   "metadata": {},
   "source": [
    "# AdaBoost Regressor :"
   ]
  },
  {
   "cell_type": "code",
   "execution_count": 86,
   "id": "f84efdd5",
   "metadata": {},
   "outputs": [
    {
     "data": {
      "text/plain": [
       "AdaBoostRegressor(base_estimator=DecisionTreeRegressor())"
      ]
     },
     "execution_count": 86,
     "metadata": {},
     "output_type": "execute_result"
    }
   ],
   "source": [
    "from sklearn.ensemble import AdaBoostRegressor\n",
    "\n",
    "ada_tree = AdaBoostRegressor(base_estimator = dtree)\n",
    "ada_tree.fit(x_train, y_train)"
   ]
  },
  {
   "cell_type": "markdown",
   "id": "aa90eb37",
   "metadata": {},
   "source": [
    "**Model Evaluation :**"
   ]
  },
  {
   "cell_type": "code",
   "execution_count": 87,
   "id": "cf0a49e4",
   "metadata": {},
   "outputs": [],
   "source": [
    "y_pred_ada_train = ada_tree.predict(x_train)\n",
    "y_pred_ada_test = ada_tree.predict(x_test)"
   ]
  },
  {
   "cell_type": "code",
   "execution_count": 88,
   "id": "957eb30f",
   "metadata": {},
   "outputs": [
    {
     "data": {
      "text/plain": [
       "0.0025640495171494267"
      ]
     },
     "execution_count": 88,
     "metadata": {},
     "output_type": "execute_result"
    }
   ],
   "source": [
    "#RMSE score on train dataset\n",
    "RMSE_ADAtree_train = metrics.mean_squared_error(y_train, y_pred_ada_train)\n",
    "RMSE_ADAtree_train"
   ]
  },
  {
   "cell_type": "code",
   "execution_count": 89,
   "id": "e3c0ad2c",
   "metadata": {},
   "outputs": [
    {
     "data": {
      "text/plain": [
       "0.22435699907965984"
      ]
     },
     "execution_count": 89,
     "metadata": {},
     "output_type": "execute_result"
    }
   ],
   "source": [
    "#RMSE score on test dataset\n",
    "RMSE_ADAtree_test = metrics.mean_squared_error(y_test, y_pred_ada_test)\n",
    "RMSE_ADAtree_test"
   ]
  },
  {
   "cell_type": "markdown",
   "id": "d4b20efe",
   "metadata": {},
   "source": [
    "# Random Forest Regressor :"
   ]
  },
  {
   "cell_type": "code",
   "execution_count": 90,
   "id": "9dd90401",
   "metadata": {},
   "outputs": [
    {
     "data": {
      "text/plain": [
       "RandomForestRegressor()"
      ]
     },
     "execution_count": 90,
     "metadata": {},
     "output_type": "execute_result"
    }
   ],
   "source": [
    "from sklearn.ensemble import RandomForestRegressor\n",
    "\n",
    "clf_rand = RandomForestRegressor()\n",
    "clf_rand.fit(x_train, y_train)"
   ]
  },
  {
   "cell_type": "markdown",
   "id": "2b7370f6",
   "metadata": {},
   "source": [
    "**Model Evaluation :**"
   ]
  },
  {
   "cell_type": "code",
   "execution_count": 91,
   "id": "e2cb335b",
   "metadata": {},
   "outputs": [],
   "source": [
    "y_pred_rf_train = clf_rand.predict(x_train)\n",
    "y_pred_rf_test = clf_rand.predict(x_test)"
   ]
  },
  {
   "cell_type": "code",
   "execution_count": 92,
   "id": "f8d77d5c",
   "metadata": {},
   "outputs": [
    {
     "data": {
      "text/plain": [
       "0.04917921496535347"
      ]
     },
     "execution_count": 92,
     "metadata": {},
     "output_type": "execute_result"
    }
   ],
   "source": [
    "#RMSE score on train dataset\n",
    "RMSE_RandFr_train = metrics.mean_squared_error(y_train, y_pred_rf_train)\n",
    "RMSE_RandFr_train"
   ]
  },
  {
   "cell_type": "code",
   "execution_count": 93,
   "id": "fe81cfa9",
   "metadata": {},
   "outputs": [
    {
     "data": {
      "text/plain": [
       "0.3040420396811117"
      ]
     },
     "execution_count": 93,
     "metadata": {},
     "output_type": "execute_result"
    }
   ],
   "source": [
    "#RMSE score on test dataset\n",
    "RMSE_RandFr_test = metrics.mean_squared_error(y_test, y_pred_rf_test)\n",
    "RMSE_RandFr_test"
   ]
  },
  {
   "cell_type": "markdown",
   "id": "29ac98d2",
   "metadata": {},
   "source": [
    "# Bagging Regressor :"
   ]
  },
  {
   "cell_type": "code",
   "execution_count": 94,
   "id": "80eb3306",
   "metadata": {},
   "outputs": [
    {
     "data": {
      "text/plain": [
       "BaggingRegressor(base_estimator=RandomForestRegressor())"
      ]
     },
     "execution_count": 94,
     "metadata": {},
     "output_type": "execute_result"
    }
   ],
   "source": [
    "from sklearn.ensemble import BaggingRegressor\n",
    "\n",
    "bag_clf = BaggingRegressor(base_estimator = clf_rand, n_estimators = 10)\n",
    "bag_clf.fit(x_train, y_train)"
   ]
  },
  {
   "cell_type": "markdown",
   "id": "d640220f",
   "metadata": {},
   "source": [
    "**Model Evaluation :**"
   ]
  },
  {
   "cell_type": "code",
   "execution_count": 95,
   "id": "a1e79416",
   "metadata": {},
   "outputs": [],
   "source": [
    "y_pred_bag_train = bag_clf.predict(x_train)\n",
    "y_pred_bag_test = bag_clf.predict(x_test)"
   ]
  },
  {
   "cell_type": "code",
   "execution_count": 96,
   "id": "b36b231c",
   "metadata": {},
   "outputs": [
    {
     "data": {
      "text/plain": [
       "0.11729347570601073"
      ]
     },
     "execution_count": 96,
     "metadata": {},
     "output_type": "execute_result"
    }
   ],
   "source": [
    "#RMSE score on train dataset\n",
    "RMSE_BagRf_train = metrics.mean_squared_error(y_train, y_pred_bag_train)\n",
    "RMSE_BagRf_train"
   ]
  },
  {
   "cell_type": "code",
   "execution_count": 97,
   "id": "d339e92d",
   "metadata": {},
   "outputs": [
    {
     "data": {
      "text/plain": [
       "0.3315379128359461"
      ]
     },
     "execution_count": 97,
     "metadata": {},
     "output_type": "execute_result"
    }
   ],
   "source": [
    "#RMSE score on test dataset\n",
    "RMSE_BagRf_test = metrics.mean_squared_error(y_test, y_pred_bag_test)\n",
    "RMSE_BagRf_test"
   ]
  },
  {
   "cell_type": "markdown",
   "id": "4ea15c32",
   "metadata": {},
   "source": [
    "# Hyper Parameter tuning on Random Forest :"
   ]
  },
  {
   "cell_type": "code",
   "execution_count": 98,
   "id": "38d25477",
   "metadata": {},
   "outputs": [],
   "source": [
    "from sklearn.model_selection import GridSearchCV, RandomizedSearchCV\n"
   ]
  },
  {
   "cell_type": "code",
   "execution_count": 99,
   "id": "1eae5a60",
   "metadata": {},
   "outputs": [],
   "source": [
    "param_grid = { \n",
    "            \"n_estimators\"      : [10,20,30],\n",
    "            \"max_features\"      : [\"auto\", \"sqrt\", \"log2\"],\n",
    "            \"min_samples_split\" : [2,4,8],\n",
    "            \"bootstrap\": [True, False],\n",
    "            }"
   ]
  },
  {
   "cell_type": "code",
   "execution_count": 100,
   "id": "26414e68",
   "metadata": {},
   "outputs": [
    {
     "name": "stdout",
     "output_type": "stream",
     "text": [
      "Fitting 5 folds for each of 54 candidates, totalling 270 fits\n"
     ]
    },
    {
     "data": {
      "text/plain": [
       "GridSearchCV(cv=5, estimator=RandomForestRegressor(),\n",
       "             param_grid={'bootstrap': [True, False],\n",
       "                         'max_features': ['auto', 'sqrt', 'log2'],\n",
       "                         'min_samples_split': [2, 4, 8],\n",
       "                         'n_estimators': [10, 20, 30]},\n",
       "             verbose=1)"
      ]
     },
     "execution_count": 100,
     "metadata": {},
     "output_type": "execute_result"
    }
   ],
   "source": [
    "grid_rand = GridSearchCV(clf_rand, param_grid, cv = 5, verbose = 1)\n",
    "grid_rand.fit(x_train, y_train)"
   ]
  },
  {
   "cell_type": "code",
   "execution_count": 101,
   "id": "74cff436",
   "metadata": {},
   "outputs": [
    {
     "data": {
      "text/plain": [
       "RandomForestRegressor(max_features='sqrt', min_samples_split=8, n_estimators=30)"
      ]
     },
     "execution_count": 101,
     "metadata": {},
     "output_type": "execute_result"
    }
   ],
   "source": [
    "final_moodel = grid_rand.best_estimator_\n",
    "final_moodel"
   ]
  },
  {
   "cell_type": "code",
   "execution_count": 102,
   "id": "aaa0aeb7",
   "metadata": {},
   "outputs": [
    {
     "data": {
      "text/plain": [
       "RandomForestRegressor(max_features='sqrt', min_samples_split=8, n_estimators=30)"
      ]
     },
     "execution_count": 102,
     "metadata": {},
     "output_type": "execute_result"
    }
   ],
   "source": [
    "clf_rand = RandomForestRegressor(max_features='sqrt', min_samples_split=8, n_estimators=30)\n",
    "clf_rand.fit(x_train, y_train)"
   ]
  },
  {
   "cell_type": "markdown",
   "id": "4d0c6a99",
   "metadata": {},
   "source": [
    "**Model Evaluation :**"
   ]
  },
  {
   "cell_type": "code",
   "execution_count": 103,
   "id": "d6732146",
   "metadata": {},
   "outputs": [],
   "source": [
    "y_pred_RandF_train = clf_rand.predict(x_train)\n",
    "y_pred_RandF_test = clf_rand.predict(x_test)"
   ]
  },
  {
   "cell_type": "code",
   "execution_count": 104,
   "id": "d75f6f27",
   "metadata": {},
   "outputs": [
    {
     "data": {
      "text/plain": [
       "0.15067533318116968"
      ]
     },
     "execution_count": 104,
     "metadata": {},
     "output_type": "execute_result"
    }
   ],
   "source": [
    "#RMSE score on train dataset\n",
    "RMSE_GridRf_train = metrics.mean_squared_error(y_train, y_pred_RandF_train)\n",
    "RMSE_GridRf_train"
   ]
  },
  {
   "cell_type": "code",
   "execution_count": 105,
   "id": "f1e02cd1",
   "metadata": {},
   "outputs": [
    {
     "data": {
      "text/plain": [
       "0.3218990386511152"
      ]
     },
     "execution_count": 105,
     "metadata": {},
     "output_type": "execute_result"
    }
   ],
   "source": [
    "#RMSE score on test dataset\n",
    "RMSE_GridRf_test = metrics.mean_squared_error(y_test, y_pred_RandF_test)\n",
    "RMSE_GridRf_test"
   ]
  },
  {
   "cell_type": "markdown",
   "id": "3c9a385f",
   "metadata": {},
   "source": [
    "# Gradient Boosting Regressor :"
   ]
  },
  {
   "cell_type": "code",
   "execution_count": 106,
   "id": "7b0d1d66",
   "metadata": {},
   "outputs": [],
   "source": [
    "from sklearn.ensemble import GradientBoostingRegressor\n",
    "grad_reg = GradientBoostingRegressor(learning_rate= 0.05)"
   ]
  },
  {
   "cell_type": "code",
   "execution_count": 107,
   "id": "a9dd7812",
   "metadata": {},
   "outputs": [
    {
     "data": {
      "text/plain": [
       "GradientBoostingRegressor(learning_rate=0.05)"
      ]
     },
     "execution_count": 107,
     "metadata": {},
     "output_type": "execute_result"
    }
   ],
   "source": [
    "grad_reg.fit(x_train, y_train)"
   ]
  },
  {
   "cell_type": "markdown",
   "id": "735f756e",
   "metadata": {},
   "source": [
    "**Model Evaluation :**"
   ]
  },
  {
   "cell_type": "code",
   "execution_count": 108,
   "id": "f6febd16",
   "metadata": {},
   "outputs": [],
   "source": [
    "y_pred_Grad_train = clf_rand.predict(x_train)\n",
    "y_pred_Grad_test = clf_rand.predict(x_test)"
   ]
  },
  {
   "cell_type": "code",
   "execution_count": 109,
   "id": "f8953fc4",
   "metadata": {},
   "outputs": [
    {
     "data": {
      "text/plain": [
       "0.15067533318116968"
      ]
     },
     "execution_count": 109,
     "metadata": {},
     "output_type": "execute_result"
    }
   ],
   "source": [
    "#RMSE score on train dataset\n",
    "RMSE_Grad_train = metrics.mean_squared_error(y_train, y_pred_Grad_train)\n",
    "RMSE_Grad_train"
   ]
  },
  {
   "cell_type": "code",
   "execution_count": 110,
   "id": "c476fd1c",
   "metadata": {},
   "outputs": [
    {
     "data": {
      "text/plain": [
       "0.3218990386511152"
      ]
     },
     "execution_count": 110,
     "metadata": {},
     "output_type": "execute_result"
    }
   ],
   "source": [
    "#RMSE score on test dataset\n",
    "RMSE_Grad_test = metrics.mean_squared_error(y_test, y_pred_Grad_test)\n",
    "RMSE_Grad_test"
   ]
  },
  {
   "cell_type": "markdown",
   "id": "552a952b",
   "metadata": {},
   "source": [
    "# Xgb Regressor :"
   ]
  },
  {
   "cell_type": "code",
   "execution_count": 111,
   "id": "d7b359dc",
   "metadata": {},
   "outputs": [
    {
     "data": {
      "text/plain": [
       "XGBRegressor(base_score=0.5, booster='gbtree', callbacks=None,\n",
       "             colsample_bylevel=1, colsample_bynode=1, colsample_bytree=1,\n",
       "             early_stopping_rounds=None, enable_categorical=False,\n",
       "             eval_metric=None, feature_types=None, gamma=0, gpu_id=-1,\n",
       "             grow_policy='depthwise', importance_type=None,\n",
       "             interaction_constraints='', learning_rate=0.05, max_bin=256,\n",
       "             max_cat_threshold=64, max_cat_to_onehot=4, max_delta_step=0,\n",
       "             max_depth=6, max_leaves=0, min_child_weight=1, missing=nan,\n",
       "             monotone_constraints='()', n_estimators=100, n_jobs=0,\n",
       "             num_parallel_tree=1, predictor='auto', random_state=0, ...)"
      ]
     },
     "execution_count": 111,
     "metadata": {},
     "output_type": "execute_result"
    }
   ],
   "source": [
    "from xgboost import XGBRegressor\n",
    "\n",
    "XGB_reg = XGBRegressor(learning_rate = 0.05)\n",
    "XGB_reg.fit(x_train, y_train)"
   ]
  },
  {
   "cell_type": "markdown",
   "id": "b6c83ae7",
   "metadata": {},
   "source": [
    "**Model Evaluation :**"
   ]
  },
  {
   "cell_type": "code",
   "execution_count": 112,
   "id": "4cce5da2",
   "metadata": {},
   "outputs": [],
   "source": [
    "y_pred_xg_train = XGB_reg.predict(x_train)\n",
    "y_pred_xg_test = XGB_reg.predict(x_test)"
   ]
  },
  {
   "cell_type": "code",
   "execution_count": 113,
   "id": "73081c46",
   "metadata": {},
   "outputs": [
    {
     "data": {
      "text/plain": [
       "0.22570537224022416"
      ]
     },
     "execution_count": 113,
     "metadata": {},
     "output_type": "execute_result"
    }
   ],
   "source": [
    "#RMSE score on train dataset\n",
    "RMSE_Xgb_train = metrics.mean_squared_error(y_train, y_pred_xg_train)\n",
    "RMSE_Xgb_train"
   ]
  },
  {
   "cell_type": "code",
   "execution_count": 114,
   "id": "f1cac3be",
   "metadata": {},
   "outputs": [
    {
     "data": {
      "text/plain": [
       "0.30838461310147086"
      ]
     },
     "execution_count": 114,
     "metadata": {},
     "output_type": "execute_result"
    }
   ],
   "source": [
    "#RMSE score on test dataset\n",
    "RMSE_Xgb_test = metrics.mean_squared_error(y_test, y_pred_xg_test)\n",
    "RMSE_Xgb_test"
   ]
  },
  {
   "cell_type": "code",
   "execution_count": 123,
   "id": "78cda7ca",
   "metadata": {},
   "outputs": [
    {
     "data": {
      "text/html": [
       "<div>\n",
       "<style scoped>\n",
       "    .dataframe tbody tr th:only-of-type {\n",
       "        vertical-align: middle;\n",
       "    }\n",
       "\n",
       "    .dataframe tbody tr th {\n",
       "        vertical-align: top;\n",
       "    }\n",
       "\n",
       "    .dataframe thead th {\n",
       "        text-align: right;\n",
       "    }\n",
       "</style>\n",
       "<table border=\"1\" class=\"dataframe\">\n",
       "  <thead>\n",
       "    <tr style=\"text-align: right;\">\n",
       "      <th></th>\n",
       "      <th>Model</th>\n",
       "      <th>Training RMSE</th>\n",
       "      <th>Testing RMSE</th>\n",
       "    </tr>\n",
       "  </thead>\n",
       "  <tbody>\n",
       "    <tr>\n",
       "      <th>0</th>\n",
       "      <td>Linear Regressor</td>\n",
       "      <td>0.295281</td>\n",
       "      <td>0.211568</td>\n",
       "    </tr>\n",
       "    <tr>\n",
       "      <th>1</th>\n",
       "      <td>XGBoost Regressor</td>\n",
       "      <td>0.225705</td>\n",
       "      <td>0.308385</td>\n",
       "    </tr>\n",
       "    <tr>\n",
       "      <th>2</th>\n",
       "      <td>GridSearch(RandF)</td>\n",
       "      <td>0.150675</td>\n",
       "      <td>0.321899</td>\n",
       "    </tr>\n",
       "    <tr>\n",
       "      <th>3</th>\n",
       "      <td>GradientBoosting Regressor</td>\n",
       "      <td>0.150675</td>\n",
       "      <td>0.321899</td>\n",
       "    </tr>\n",
       "    <tr>\n",
       "      <th>4</th>\n",
       "      <td>Bagging Regressor</td>\n",
       "      <td>0.117293</td>\n",
       "      <td>0.331538</td>\n",
       "    </tr>\n",
       "    <tr>\n",
       "      <th>5</th>\n",
       "      <td>Random Forest Regressor</td>\n",
       "      <td>0.049179</td>\n",
       "      <td>0.304042</td>\n",
       "    </tr>\n",
       "    <tr>\n",
       "      <th>6</th>\n",
       "      <td>ADABoost Regressor</td>\n",
       "      <td>0.002564</td>\n",
       "      <td>0.224357</td>\n",
       "    </tr>\n",
       "    <tr>\n",
       "      <th>7</th>\n",
       "      <td>Decision Tree Regressor</td>\n",
       "      <td>0.000000</td>\n",
       "      <td>0.647728</td>\n",
       "    </tr>\n",
       "  </tbody>\n",
       "</table>\n",
       "</div>"
      ],
      "text/plain": [
       "                        Model  Training RMSE  Testing RMSE\n",
       "0            Linear Regressor       0.295281      0.211568\n",
       "1           XGBoost Regressor       0.225705      0.308385\n",
       "2           GridSearch(RandF)       0.150675      0.321899\n",
       "3  GradientBoosting Regressor       0.150675      0.321899\n",
       "4           Bagging Regressor       0.117293      0.331538\n",
       "5     Random Forest Regressor       0.049179      0.304042\n",
       "6          ADABoost Regressor       0.002564      0.224357\n",
       "7     Decision Tree Regressor       0.000000      0.647728"
      ]
     },
     "execution_count": 123,
     "metadata": {},
     "output_type": "execute_result"
    }
   ],
   "source": [
    "models = pd.DataFrame({ 'Model': ['Linear Regressor', 'Decision Tree Regressor', 'ADABoost Regressor','Random Forest Regressor', 'Bagging Regressor', 'GridSearch(RandF)', 'GradientBoosting Regressor', 'XGBoost Regressor'],\n",
    "                       'Training RMSE': [RMSE_Linear_train, RMSE_Dtree_train, RMSE_ADAtree_train,\n",
    "                                         RMSE_RandFr_train, RMSE_BagRf_train, RMSE_GridRf_train, RMSE_Grad_train,\n",
    "                                            RMSE_Xgb_train],\n",
    "                       \n",
    "                       'Testing RMSE': [RMSE_Linear_test, RMSE_Dtree_test, RMSE_ADAtree_test, RMSE_RandFr_test, RMSE_BagRf_test, RMSE_GridRf_test,\n",
    "                                        RMSE_Grad_test, RMSE_Xgb_test]})\n",
    "models.sort_values(by = ['Training RMSE', 'Testing RMSE'], ascending = False, ignore_index = True)"
   ]
  },
  {
   "cell_type": "markdown",
   "id": "626df47a",
   "metadata": {},
   "source": [
    "# Kfold Cross Validation :"
   ]
  },
  {
   "cell_type": "code",
   "execution_count": 127,
   "id": "2078330a",
   "metadata": {},
   "outputs": [],
   "source": [
    "from sklearn.model_selection import KFold\n",
    "from sklearn.model_selection import cross_val_score"
   ]
  },
  {
   "cell_type": "code",
   "execution_count": 125,
   "id": "17f0597b",
   "metadata": {},
   "outputs": [],
   "source": [
    "Regressors = []\n",
    "\n",
    "Regressors.append(LinearRegression())\n",
    "Regressors.append(DecisionTreeRegressor())\n",
    "Regressors.append(AdaBoostRegressor())\n",
    "Regressors.append(RandomForestRegressor())\n",
    "Regressors.append(BaggingRegressor(n_estimators = 10))\n",
    "Regressors.append(RandomForestRegressor(max_features='sqrt', min_samples_split=8, n_estimators=30))\n",
    "Regressors.append(GradientBoostingRegressor())\n",
    "Regressors.append(XGBRegressor())\n"
   ]
  },
  {
   "cell_type": "code",
   "execution_count": 128,
   "id": "b1e8bd00",
   "metadata": {},
   "outputs": [],
   "source": [
    "cv_results = []\n",
    "\n",
    "for Regressor in Regressors:\n",
    "    cv_results.append(cross_val_score(Regressor, x_train, y_train, scoring = 'neg_root_mean_squared_error', cv = 5))"
   ]
  },
  {
   "cell_type": "code",
   "execution_count": 129,
   "id": "1e8b309f",
   "metadata": {},
   "outputs": [
    {
     "data": {
      "text/plain": [
       "[array([-0.54153182, -0.58352314, -0.57474721, -0.53187727, -0.48907952]),\n",
       " array([-0.75282396, -0.80453184, -0.81021933, -0.87749318, -0.81562418]),\n",
       " array([-0.69562005, -0.71889341, -0.59598651, -0.68294974, -0.84896919]),\n",
       " array([-0.56849766, -0.61356343, -0.60471267, -0.56174658, -0.52661976]),\n",
       " array([-0.59476753, -0.63796049, -0.61990424, -0.60458876, -0.56421967]),\n",
       " array([-0.55728586, -0.59986298, -0.58824918, -0.54985284, -0.51197597]),\n",
       " array([-0.5473542 , -0.5999128 , -0.59362946, -0.55033756, -0.51453712]),\n",
       " array([-0.6034581 , -0.64388058, -0.64474558, -0.5831664 , -0.56779611])]"
      ]
     },
     "execution_count": 129,
     "metadata": {},
     "output_type": "execute_result"
    }
   ],
   "source": [
    "cv_results"
   ]
  },
  {
   "cell_type": "code",
   "execution_count": 130,
   "id": "d60c5b19",
   "metadata": {},
   "outputs": [],
   "source": [
    "cv_mean = []\n",
    "cv_std = []\n",
    "for cv_result in cv_results:\n",
    "    cv_mean.append(cv_result.mean())\n",
    "    cv_std.append(cv_result.std())"
   ]
  },
  {
   "cell_type": "code",
   "execution_count": 131,
   "id": "8e5f6e01",
   "metadata": {},
   "outputs": [
    {
     "data": {
      "text/html": [
       "<div>\n",
       "<style scoped>\n",
       "    .dataframe tbody tr th:only-of-type {\n",
       "        vertical-align: middle;\n",
       "    }\n",
       "\n",
       "    .dataframe tbody tr th {\n",
       "        vertical-align: top;\n",
       "    }\n",
       "\n",
       "    .dataframe thead th {\n",
       "        text-align: right;\n",
       "    }\n",
       "</style>\n",
       "<table border=\"1\" class=\"dataframe\">\n",
       "  <thead>\n",
       "    <tr style=\"text-align: right;\">\n",
       "      <th></th>\n",
       "      <th>Cross Validation Mean</th>\n",
       "      <th>Cross Validation Std</th>\n",
       "      <th>Algorithm</th>\n",
       "    </tr>\n",
       "  </thead>\n",
       "  <tbody>\n",
       "    <tr>\n",
       "      <th>0</th>\n",
       "      <td>-0.544152</td>\n",
       "      <td>0.033695</td>\n",
       "      <td>Linear Regressor</td>\n",
       "    </tr>\n",
       "    <tr>\n",
       "      <th>1</th>\n",
       "      <td>-0.561154</td>\n",
       "      <td>0.031741</td>\n",
       "      <td>GradientBoosting Regressor</td>\n",
       "    </tr>\n",
       "    <tr>\n",
       "      <th>2</th>\n",
       "      <td>-0.561445</td>\n",
       "      <td>0.030962</td>\n",
       "      <td>GridSearch(RandF)</td>\n",
       "    </tr>\n",
       "    <tr>\n",
       "      <th>3</th>\n",
       "      <td>-0.575028</td>\n",
       "      <td>0.031396</td>\n",
       "      <td>Random Forest Regressor</td>\n",
       "    </tr>\n",
       "    <tr>\n",
       "      <th>4</th>\n",
       "      <td>-0.604288</td>\n",
       "      <td>0.024795</td>\n",
       "      <td>Bagging Regressor</td>\n",
       "    </tr>\n",
       "    <tr>\n",
       "      <th>5</th>\n",
       "      <td>-0.608609</td>\n",
       "      <td>0.031271</td>\n",
       "      <td>XGBoost Regressor</td>\n",
       "    </tr>\n",
       "    <tr>\n",
       "      <th>6</th>\n",
       "      <td>-0.708484</td>\n",
       "      <td>0.081630</td>\n",
       "      <td>ADABoost Regressor</td>\n",
       "    </tr>\n",
       "    <tr>\n",
       "      <th>7</th>\n",
       "      <td>-0.812138</td>\n",
       "      <td>0.039656</td>\n",
       "      <td>Decision Tree Regressor</td>\n",
       "    </tr>\n",
       "  </tbody>\n",
       "</table>\n",
       "</div>"
      ],
      "text/plain": [
       "   Cross Validation Mean  Cross Validation Std                   Algorithm\n",
       "0              -0.544152              0.033695            Linear Regressor\n",
       "1              -0.561154              0.031741  GradientBoosting Regressor\n",
       "2              -0.561445              0.030962           GridSearch(RandF)\n",
       "3              -0.575028              0.031396     Random Forest Regressor\n",
       "4              -0.604288              0.024795           Bagging Regressor\n",
       "5              -0.608609              0.031271           XGBoost Regressor\n",
       "6              -0.708484              0.081630          ADABoost Regressor\n",
       "7              -0.812138              0.039656     Decision Tree Regressor"
      ]
     },
     "execution_count": 131,
     "metadata": {},
     "output_type": "execute_result"
    }
   ],
   "source": [
    "cv_res = pd.DataFrame({'Cross Validation Mean': cv_mean, 'Cross Validation Std': cv_std, 'Algorithm':['Linear Regressor', 'Decision Tree Regressor', 'ADABoost Regressor','Random Forest Regressor', 'Bagging Regressor', 'GridSearch(RandF)', 'GradientBoosting Regressor', 'XGBoost Regressor']})\n",
    "cv_res.sort_values(by = 'Cross Validation Mean', ascending  = False, ignore_index = True)"
   ]
  },
  {
   "cell_type": "markdown",
   "id": "e0aff25d",
   "metadata": {},
   "source": [
    "# Lasso and Ridge Regressor :"
   ]
  },
  {
   "cell_type": "code",
   "execution_count": 136,
   "id": "a900f09f",
   "metadata": {},
   "outputs": [],
   "source": [
    "from sklearn import linear_model"
   ]
  },
  {
   "cell_type": "code",
   "execution_count": 178,
   "id": "85d4f2ea",
   "metadata": {},
   "outputs": [
    {
     "data": {
      "text/plain": [
       "Lasso(alpha=50, max_iter=100, tol=0.1)"
      ]
     },
     "execution_count": 178,
     "metadata": {},
     "output_type": "execute_result"
    }
   ],
   "source": [
    "lasso_reg = linear_model.Lasso(alpha = 50, max_iter = 100, tol = 0.1)\n",
    "lasso_reg.fit(x_train, y_train)"
   ]
  },
  {
   "cell_type": "markdown",
   "id": "abbaead0",
   "metadata": {},
   "source": [
    "**Model Evaluation :**"
   ]
  },
  {
   "cell_type": "code",
   "execution_count": 179,
   "id": "9b77bbb0",
   "metadata": {},
   "outputs": [],
   "source": [
    "y_pred_lasso_train = lasso_reg.predict(x_train)\n",
    "y_pred_lasso_test = lasso_reg.predict(x_test)"
   ]
  },
  {
   "cell_type": "code",
   "execution_count": 180,
   "id": "cafc2370",
   "metadata": {},
   "outputs": [
    {
     "data": {
      "text/plain": [
       "0.29800079259197954"
      ]
     },
     "execution_count": 180,
     "metadata": {},
     "output_type": "execute_result"
    }
   ],
   "source": [
    "#RMSE score on train dataset\n",
    "RMSE_lasso_train = metrics.mean_squared_error(y_train, y_pred_lasso_train)\n",
    "RMSE_lasso_train"
   ]
  },
  {
   "cell_type": "code",
   "execution_count": 181,
   "id": "7d5cd1b1",
   "metadata": {},
   "outputs": [
    {
     "data": {
      "text/plain": [
       "0.21098904804033"
      ]
     },
     "execution_count": 181,
     "metadata": {},
     "output_type": "execute_result"
    }
   ],
   "source": [
    "#RMSE score on test dataset\n",
    "RMSE_lasso_test = metrics.mean_squared_error(y_test, y_pred_lasso_test)\n",
    "RMSE_lasso_test"
   ]
  },
  {
   "cell_type": "code",
   "execution_count": 182,
   "id": "efaa222e",
   "metadata": {},
   "outputs": [
    {
     "data": {
      "text/plain": [
       "Ridge(alpha=50, max_iter=100, tol=0.1)"
      ]
     },
     "execution_count": 182,
     "metadata": {},
     "output_type": "execute_result"
    }
   ],
   "source": [
    "from sklearn.linear_model import Ridge\n",
    "ridge_reg = Ridge(alpha = 50, max_iter = 100, tol = 0.1)\n",
    "ridge_reg.fit(x_train, y_train)"
   ]
  },
  {
   "cell_type": "markdown",
   "id": "c60bea80",
   "metadata": {},
   "source": [
    "**Model Evaluation :**"
   ]
  },
  {
   "cell_type": "code",
   "execution_count": 183,
   "id": "905eb2ac",
   "metadata": {},
   "outputs": [],
   "source": [
    "y_pred_ridge_train = ridge_reg.predict(x_train)\n",
    "y_pred_ridge_test = ridge_reg.predict(x_test)"
   ]
  },
  {
   "cell_type": "code",
   "execution_count": 184,
   "id": "84f1eed1",
   "metadata": {},
   "outputs": [
    {
     "data": {
      "text/plain": [
       "0.29528517772418544"
      ]
     },
     "execution_count": 184,
     "metadata": {},
     "output_type": "execute_result"
    }
   ],
   "source": [
    "#RMSE score on train dataset\n",
    "RMSE_ridge_train = metrics.mean_squared_error(y_train, y_pred_ridge_train)\n",
    "RMSE_ridge_train"
   ]
  },
  {
   "cell_type": "code",
   "execution_count": 185,
   "id": "a60c4150",
   "metadata": {},
   "outputs": [
    {
     "data": {
      "text/plain": [
       "0.21136611919853715"
      ]
     },
     "execution_count": 185,
     "metadata": {},
     "output_type": "execute_result"
    }
   ],
   "source": [
    "#RMSE score on test dataset\n",
    "RMSE_ridge_test = metrics.mean_squared_error(y_test, y_pred_ridge_test)\n",
    "RMSE_ridge_test"
   ]
  },
  {
   "cell_type": "code",
   "execution_count": 186,
   "id": "4d84e457",
   "metadata": {},
   "outputs": [
    {
     "data": {
      "text/html": [
       "<div>\n",
       "<style scoped>\n",
       "    .dataframe tbody tr th:only-of-type {\n",
       "        vertical-align: middle;\n",
       "    }\n",
       "\n",
       "    .dataframe tbody tr th {\n",
       "        vertical-align: top;\n",
       "    }\n",
       "\n",
       "    .dataframe thead th {\n",
       "        text-align: right;\n",
       "    }\n",
       "</style>\n",
       "<table border=\"1\" class=\"dataframe\">\n",
       "  <thead>\n",
       "    <tr style=\"text-align: right;\">\n",
       "      <th></th>\n",
       "      <th>Model</th>\n",
       "      <th>Training RMSE</th>\n",
       "      <th>Testing RMSE</th>\n",
       "    </tr>\n",
       "  </thead>\n",
       "  <tbody>\n",
       "    <tr>\n",
       "      <th>0</th>\n",
       "      <td>Lasso</td>\n",
       "      <td>0.298001</td>\n",
       "      <td>0.210989</td>\n",
       "    </tr>\n",
       "    <tr>\n",
       "      <th>1</th>\n",
       "      <td>Ridge</td>\n",
       "      <td>0.295285</td>\n",
       "      <td>0.211366</td>\n",
       "    </tr>\n",
       "    <tr>\n",
       "      <th>2</th>\n",
       "      <td>Linear Regressor</td>\n",
       "      <td>0.295281</td>\n",
       "      <td>0.211568</td>\n",
       "    </tr>\n",
       "    <tr>\n",
       "      <th>3</th>\n",
       "      <td>XGBoost Regressor</td>\n",
       "      <td>0.225705</td>\n",
       "      <td>0.308385</td>\n",
       "    </tr>\n",
       "    <tr>\n",
       "      <th>4</th>\n",
       "      <td>GridSearch(RandF)</td>\n",
       "      <td>0.150675</td>\n",
       "      <td>0.321899</td>\n",
       "    </tr>\n",
       "    <tr>\n",
       "      <th>5</th>\n",
       "      <td>GradientBoosting Regressor</td>\n",
       "      <td>0.150675</td>\n",
       "      <td>0.321899</td>\n",
       "    </tr>\n",
       "    <tr>\n",
       "      <th>6</th>\n",
       "      <td>Bagging Regressor</td>\n",
       "      <td>0.117293</td>\n",
       "      <td>0.331538</td>\n",
       "    </tr>\n",
       "    <tr>\n",
       "      <th>7</th>\n",
       "      <td>Random Forest Regressor</td>\n",
       "      <td>0.049179</td>\n",
       "      <td>0.304042</td>\n",
       "    </tr>\n",
       "    <tr>\n",
       "      <th>8</th>\n",
       "      <td>ADABoost Regressor</td>\n",
       "      <td>0.002564</td>\n",
       "      <td>0.224357</td>\n",
       "    </tr>\n",
       "    <tr>\n",
       "      <th>9</th>\n",
       "      <td>Decision Tree Regressor</td>\n",
       "      <td>0.000000</td>\n",
       "      <td>0.647728</td>\n",
       "    </tr>\n",
       "  </tbody>\n",
       "</table>\n",
       "</div>"
      ],
      "text/plain": [
       "                        Model  Training RMSE  Testing RMSE\n",
       "0                       Lasso       0.298001      0.210989\n",
       "1                       Ridge       0.295285      0.211366\n",
       "2            Linear Regressor       0.295281      0.211568\n",
       "3           XGBoost Regressor       0.225705      0.308385\n",
       "4           GridSearch(RandF)       0.150675      0.321899\n",
       "5  GradientBoosting Regressor       0.150675      0.321899\n",
       "6           Bagging Regressor       0.117293      0.331538\n",
       "7     Random Forest Regressor       0.049179      0.304042\n",
       "8          ADABoost Regressor       0.002564      0.224357\n",
       "9     Decision Tree Regressor       0.000000      0.647728"
      ]
     },
     "execution_count": 186,
     "metadata": {},
     "output_type": "execute_result"
    }
   ],
   "source": [
    "models = pd.DataFrame({ 'Model': ['Linear Regressor', 'Decision Tree Regressor', 'ADABoost Regressor','Random Forest Regressor', 'Bagging Regressor', 'GridSearch(RandF)', 'GradientBoosting Regressor', 'XGBoost Regressor', 'Lasso', 'Ridge'],\n",
    "                       'Training RMSE': [RMSE_Linear_train, RMSE_Dtree_train, RMSE_ADAtree_train,\n",
    "                                         RMSE_RandFr_train, RMSE_BagRf_train, RMSE_GridRf_train, RMSE_Grad_train,\n",
    "                                            RMSE_Xgb_train, RMSE_lasso_train, RMSE_ridge_train],\n",
    "                       \n",
    "                       'Testing RMSE': [RMSE_Linear_test, RMSE_Dtree_test, RMSE_ADAtree_test, RMSE_RandFr_test, RMSE_BagRf_test, RMSE_GridRf_test,\n",
    "                                        RMSE_Grad_test, RMSE_Xgb_test, RMSE_lasso_test,RMSE_ridge_test]})\n",
    "models.sort_values(by = ['Training RMSE', 'Testing RMSE'], ascending = False, ignore_index = True)"
   ]
  },
  {
   "cell_type": "code",
   "execution_count": 225,
   "id": "53e5816f",
   "metadata": {},
   "outputs": [],
   "source": [
    "test_df = pd.read_csv('test_data.csv')"
   ]
  },
  {
   "cell_type": "code",
   "execution_count": 226,
   "id": "458bd08c",
   "metadata": {},
   "outputs": [
    {
     "data": {
      "text/html": [
       "<div>\n",
       "<style scoped>\n",
       "    .dataframe tbody tr th:only-of-type {\n",
       "        vertical-align: middle;\n",
       "    }\n",
       "\n",
       "    .dataframe tbody tr th {\n",
       "        vertical-align: top;\n",
       "    }\n",
       "\n",
       "    .dataframe thead th {\n",
       "        text-align: right;\n",
       "    }\n",
       "</style>\n",
       "<table border=\"1\" class=\"dataframe\">\n",
       "  <thead>\n",
       "    <tr style=\"text-align: right;\">\n",
       "      <th></th>\n",
       "      <th>Deal_title</th>\n",
       "      <th>Lead_name</th>\n",
       "      <th>Industry</th>\n",
       "      <th>Deal_value</th>\n",
       "      <th>Weighted_amount</th>\n",
       "      <th>Date_of_creation</th>\n",
       "      <th>Pitch</th>\n",
       "      <th>Contact_no</th>\n",
       "      <th>Lead_revenue</th>\n",
       "      <th>Fund_category</th>\n",
       "      <th>...</th>\n",
       "      <th>POC_name</th>\n",
       "      <th>Designation</th>\n",
       "      <th>Lead_POC_email</th>\n",
       "      <th>Hiring_candidate_role</th>\n",
       "      <th>Lead_source</th>\n",
       "      <th>Level_of_meeting</th>\n",
       "      <th>Last_lead_update</th>\n",
       "      <th>Internal_POC</th>\n",
       "      <th>Resource</th>\n",
       "      <th>Internal_rating</th>\n",
       "    </tr>\n",
       "  </thead>\n",
       "  <tbody>\n",
       "    <tr>\n",
       "      <th>0</th>\n",
       "      <td>TitleLFW99</td>\n",
       "      <td>Mcgrath PLC PLC</td>\n",
       "      <td>Banks</td>\n",
       "      <td>148175$</td>\n",
       "      <td>963137.5$</td>\n",
       "      <td>2019-11-11</td>\n",
       "      <td>Product_1</td>\n",
       "      <td>(255)484-8544x98190</td>\n",
       "      <td>500 Million - 1 Billion</td>\n",
       "      <td>Category 4</td>\n",
       "      <td>...</td>\n",
       "      <td>rashmi @ rinku</td>\n",
       "      <td>Chief Executive Officer</td>\n",
       "      <td>michaelortega@mcgrath.com</td>\n",
       "      <td>Exhibition designer</td>\n",
       "      <td>Contact Email</td>\n",
       "      <td>Level 2</td>\n",
       "      <td>More than 2 weeks</td>\n",
       "      <td>Houston,Arnold E</td>\n",
       "      <td>Deliverable</td>\n",
       "      <td>3</td>\n",
       "    </tr>\n",
       "    <tr>\n",
       "      <th>1</th>\n",
       "      <td>Title7WR77</td>\n",
       "      <td>Shepard Inc LLC</td>\n",
       "      <td>Automotive/Transportation</td>\n",
       "      <td>273302$</td>\n",
       "      <td>1803793.2$</td>\n",
       "      <td>2019-06-15</td>\n",
       "      <td>Product_1</td>\n",
       "      <td>001-537-692-7359x0941</td>\n",
       "      <td>50 - 100 Million</td>\n",
       "      <td>Category 1</td>\n",
       "      <td>...</td>\n",
       "      <td>jyoti</td>\n",
       "      <td>Chairman/Chief Innovation Officer</td>\n",
       "      <td>bradleypatton@shepard.com</td>\n",
       "      <td>Designer, furniture</td>\n",
       "      <td>Marketing Event</td>\n",
       "      <td>Level 3</td>\n",
       "      <td>Did not hear back after Level 1</td>\n",
       "      <td>Mabrey,Kevin C</td>\n",
       "      <td>Cannot deliver</td>\n",
       "      <td>1</td>\n",
       "    </tr>\n",
       "    <tr>\n",
       "      <th>2</th>\n",
       "      <td>TitleF6Q9B</td>\n",
       "      <td>Gomez, Keith and Simpson Ltd</td>\n",
       "      <td>Insurance</td>\n",
       "      <td>185344$</td>\n",
       "      <td>1260339.2$</td>\n",
       "      <td>2020-03-24</td>\n",
       "      <td>Product_2</td>\n",
       "      <td>001-832-090-1215</td>\n",
       "      <td>50 - 100 Million</td>\n",
       "      <td>Category 1</td>\n",
       "      <td>...</td>\n",
       "      <td>anita</td>\n",
       "      <td>CEO/Co-Founder/Chairman</td>\n",
       "      <td>meredithjones@gomez.com</td>\n",
       "      <td>Fisheries officer</td>\n",
       "      <td>Marketing Event</td>\n",
       "      <td>Level 3</td>\n",
       "      <td>?</td>\n",
       "      <td>Dunaway,Antoine</td>\n",
       "      <td>Cannot deliver</td>\n",
       "      <td>3</td>\n",
       "    </tr>\n",
       "    <tr>\n",
       "      <th>3</th>\n",
       "      <td>Title8TVFW</td>\n",
       "      <td>Mendoza, Hess and Martin Ltd</td>\n",
       "      <td>Financial Services</td>\n",
       "      <td>189599$</td>\n",
       "      <td>1194473.7$</td>\n",
       "      <td>2020-02-01</td>\n",
       "      <td>Product_1</td>\n",
       "      <td>(887)737-2139</td>\n",
       "      <td>500 Million - 1 Billion</td>\n",
       "      <td>Category 1</td>\n",
       "      <td>...</td>\n",
       "      <td>Terri Freeman</td>\n",
       "      <td>Vice President / GM (04-present) : VP Sales an...</td>\n",
       "      <td>terrifreeman@mendoza.com</td>\n",
       "      <td>Travel agency manager</td>\n",
       "      <td>Others</td>\n",
       "      <td>Level 1</td>\n",
       "      <td>NaN</td>\n",
       "      <td>Shelton,Sidney P</td>\n",
       "      <td>Not enough</td>\n",
       "      <td>3</td>\n",
       "    </tr>\n",
       "    <tr>\n",
       "      <th>4</th>\n",
       "      <td>TitleH8JO8</td>\n",
       "      <td>Cunningham, Daniels and Brady LLC</td>\n",
       "      <td>Software</td>\n",
       "      <td>379241$</td>\n",
       "      <td>2427142.4$</td>\n",
       "      <td>2020-10-20</td>\n",
       "      <td>Product_1</td>\n",
       "      <td>+1-424-763-3037x699</td>\n",
       "      <td>50 - 100 Million</td>\n",
       "      <td>Category 1</td>\n",
       "      <td>...</td>\n",
       "      <td>maya</td>\n",
       "      <td>Executive Vice President</td>\n",
       "      <td>kevinwalton@cunningham.com</td>\n",
       "      <td>Arts development officer</td>\n",
       "      <td>Contact Email</td>\n",
       "      <td>Level 3</td>\n",
       "      <td>Following up but lead not responding</td>\n",
       "      <td>Young,Valerie K</td>\n",
       "      <td>Yes</td>\n",
       "      <td>1</td>\n",
       "    </tr>\n",
       "  </tbody>\n",
       "</table>\n",
       "<p>5 rows × 22 columns</p>\n",
       "</div>"
      ],
      "text/plain": [
       "   Deal_title                          Lead_name                   Industry  \\\n",
       "0  TitleLFW99                    Mcgrath PLC PLC                      Banks   \n",
       "1  Title7WR77                    Shepard Inc LLC  Automotive/Transportation   \n",
       "2  TitleF6Q9B       Gomez, Keith and Simpson Ltd                  Insurance   \n",
       "3  Title8TVFW       Mendoza, Hess and Martin Ltd         Financial Services   \n",
       "4  TitleH8JO8  Cunningham, Daniels and Brady LLC                   Software   \n",
       "\n",
       "  Deal_value Weighted_amount Date_of_creation      Pitch  \\\n",
       "0    148175$       963137.5$       2019-11-11  Product_1   \n",
       "1    273302$      1803793.2$       2019-06-15  Product_1   \n",
       "2    185344$      1260339.2$       2020-03-24  Product_2   \n",
       "3    189599$      1194473.7$       2020-02-01  Product_1   \n",
       "4    379241$      2427142.4$       2020-10-20  Product_1   \n",
       "\n",
       "              Contact_no             Lead_revenue Fund_category  ...  \\\n",
       "0    (255)484-8544x98190  500 Million - 1 Billion    Category 4  ...   \n",
       "1  001-537-692-7359x0941         50 - 100 Million    Category 1  ...   \n",
       "2       001-832-090-1215         50 - 100 Million    Category 1  ...   \n",
       "3          (887)737-2139  500 Million - 1 Billion    Category 1  ...   \n",
       "4    +1-424-763-3037x699         50 - 100 Million    Category 1  ...   \n",
       "\n",
       "         POC_name                                        Designation  \\\n",
       "0  rashmi @ rinku                            Chief Executive Officer   \n",
       "1           jyoti                  Chairman/Chief Innovation Officer   \n",
       "2           anita                            CEO/Co-Founder/Chairman   \n",
       "3   Terri Freeman  Vice President / GM (04-present) : VP Sales an...   \n",
       "4            maya                           Executive Vice President   \n",
       "\n",
       "               Lead_POC_email     Hiring_candidate_role      Lead_source  \\\n",
       "0   michaelortega@mcgrath.com       Exhibition designer    Contact Email   \n",
       "1   bradleypatton@shepard.com       Designer, furniture  Marketing Event   \n",
       "2     meredithjones@gomez.com         Fisheries officer  Marketing Event   \n",
       "3    terrifreeman@mendoza.com     Travel agency manager           Others   \n",
       "4  kevinwalton@cunningham.com  Arts development officer    Contact Email   \n",
       "\n",
       "  Level_of_meeting                      Last_lead_update      Internal_POC  \\\n",
       "0          Level 2                     More than 2 weeks  Houston,Arnold E   \n",
       "1          Level 3       Did not hear back after Level 1    Mabrey,Kevin C   \n",
       "2          Level 3                                     ?   Dunaway,Antoine   \n",
       "3          Level 1                                   NaN  Shelton,Sidney P   \n",
       "4          Level 3  Following up but lead not responding   Young,Valerie K   \n",
       "\n",
       "         Resource Internal_rating  \n",
       "0     Deliverable               3  \n",
       "1  Cannot deliver               1  \n",
       "2  Cannot deliver               3  \n",
       "3      Not enough               3  \n",
       "4             Yes               1  \n",
       "\n",
       "[5 rows x 22 columns]"
      ]
     },
     "execution_count": 226,
     "metadata": {},
     "output_type": "execute_result"
    }
   ],
   "source": [
    "test_df.head()"
   ]
  },
  {
   "cell_type": "code",
   "execution_count": 227,
   "id": "476f1348",
   "metadata": {},
   "outputs": [
    {
     "name": "stdout",
     "output_type": "stream",
     "text": [
      "<class 'pandas.core.frame.DataFrame'>\n",
      "RangeIndex: 1402 entries, 0 to 1401\n",
      "Data columns (total 22 columns):\n",
      " #   Column                 Non-Null Count  Dtype \n",
      "---  ------                 --------------  ----- \n",
      " 0   Deal_title             1402 non-null   object\n",
      " 1   Lead_name              1402 non-null   object\n",
      " 2   Industry               1402 non-null   object\n",
      " 3   Deal_value             1391 non-null   object\n",
      " 4   Weighted_amount        1300 non-null   object\n",
      " 5   Date_of_creation       1402 non-null   object\n",
      " 6   Pitch                  1402 non-null   object\n",
      " 7   Contact_no             1402 non-null   object\n",
      " 8   Lead_revenue           1402 non-null   object\n",
      " 9   Fund_category          1402 non-null   object\n",
      " 10  Geography              1220 non-null   object\n",
      " 11  Location               1400 non-null   object\n",
      " 12  POC_name               1400 non-null   object\n",
      " 13  Designation            1402 non-null   object\n",
      " 14  Lead_POC_email         1402 non-null   object\n",
      " 15  Hiring_candidate_role  1402 non-null   object\n",
      " 16  Lead_source            1402 non-null   object\n",
      " 17  Level_of_meeting       1402 non-null   object\n",
      " 18  Last_lead_update       1267 non-null   object\n",
      " 19  Internal_POC           1402 non-null   object\n",
      " 20  Resource               1364 non-null   object\n",
      " 21  Internal_rating        1402 non-null   int64 \n",
      "dtypes: int64(1), object(21)\n",
      "memory usage: 241.1+ KB\n"
     ]
    }
   ],
   "source": [
    "test_df.info()"
   ]
  },
  {
   "cell_type": "code",
   "execution_count": 228,
   "id": "205c95e5",
   "metadata": {},
   "outputs": [
    {
     "data": {
      "text/plain": [
       "Deal_title                 0\n",
       "Lead_name                  0\n",
       "Industry                   0\n",
       "Deal_value                11\n",
       "Weighted_amount          102\n",
       "Date_of_creation           0\n",
       "Pitch                      0\n",
       "Contact_no                 0\n",
       "Lead_revenue               0\n",
       "Fund_category              0\n",
       "Geography                182\n",
       "Location                   2\n",
       "POC_name                   2\n",
       "Designation                0\n",
       "Lead_POC_email             0\n",
       "Hiring_candidate_role      0\n",
       "Lead_source                0\n",
       "Level_of_meeting           0\n",
       "Last_lead_update         135\n",
       "Internal_POC               0\n",
       "Resource                  38\n",
       "Internal_rating            0\n",
       "dtype: int64"
      ]
     },
     "execution_count": 228,
     "metadata": {},
     "output_type": "execute_result"
    }
   ],
   "source": [
    "test_df.isna().sum()"
   ]
  },
  {
   "cell_type": "code",
   "execution_count": 229,
   "id": "592dcb6b",
   "metadata": {},
   "outputs": [],
   "source": [
    "test_df[test_df.columns[3:5]] = test_df[test_df.columns[3:5]].replace('[\\$,]', '', regex=True).astype(float)"
   ]
  },
  {
   "cell_type": "code",
   "execution_count": 230,
   "id": "9ce27c6c",
   "metadata": {},
   "outputs": [],
   "source": [
    "test_df['Deal_value(Dollars)'] = test_df['Deal_value'].rename({'Deal_value' :'Deal_value(Dollars)'})\n",
    "test_df['Weighted_amount(Dollars)'] = test_df['Weighted_amount'].rename({'Weighted_amount' :'Weighted_amount(Dollars)'})"
   ]
  },
  {
   "cell_type": "code",
   "execution_count": 231,
   "id": "b8f285db",
   "metadata": {},
   "outputs": [],
   "source": [
    "test_df.drop(['Deal_value', 'Weighted_amount'], axis = 1, inplace = True)"
   ]
  },
  {
   "cell_type": "code",
   "execution_count": 232,
   "id": "e2c0b0a6",
   "metadata": {},
   "outputs": [],
   "source": [
    "test_df.drop(['Lead_name', 'Industry', 'Date_of_creation', 'Contact_no', 'Location', 'Designation',\n",
    "              'Lead_POC_email', 'Hiring_candidate_role', 'Last_lead_update', 'Internal_POC'], axis = 1, inplace = True)"
   ]
  },
  {
   "cell_type": "code",
   "execution_count": 233,
   "id": "598fc0f8",
   "metadata": {},
   "outputs": [
    {
     "name": "stdout",
     "output_type": "stream",
     "text": [
      "<class 'pandas.core.frame.DataFrame'>\n",
      "RangeIndex: 1402 entries, 0 to 1401\n",
      "Data columns (total 12 columns):\n",
      " #   Column                    Non-Null Count  Dtype  \n",
      "---  ------                    --------------  -----  \n",
      " 0   Deal_title                1402 non-null   object \n",
      " 1   Pitch                     1402 non-null   object \n",
      " 2   Lead_revenue              1402 non-null   object \n",
      " 3   Fund_category             1402 non-null   object \n",
      " 4   Geography                 1220 non-null   object \n",
      " 5   POC_name                  1400 non-null   object \n",
      " 6   Lead_source               1402 non-null   object \n",
      " 7   Level_of_meeting          1402 non-null   object \n",
      " 8   Resource                  1364 non-null   object \n",
      " 9   Internal_rating           1402 non-null   int64  \n",
      " 10  Deal_value(Dollars)       1391 non-null   float64\n",
      " 11  Weighted_amount(Dollars)  1300 non-null   float64\n",
      "dtypes: float64(2), int64(1), object(9)\n",
      "memory usage: 131.6+ KB\n"
     ]
    }
   ],
   "source": [
    "test_df.info()"
   ]
  },
  {
   "cell_type": "code",
   "execution_count": 234,
   "id": "02b42c40",
   "metadata": {},
   "outputs": [
    {
     "data": {
      "text/plain": [
       "Deal_title                    0\n",
       "Pitch                         0\n",
       "Lead_revenue                  0\n",
       "Fund_category                 0\n",
       "Geography                   182\n",
       "POC_name                      2\n",
       "Lead_source                   0\n",
       "Level_of_meeting              0\n",
       "Resource                     38\n",
       "Internal_rating               0\n",
       "Deal_value(Dollars)          11\n",
       "Weighted_amount(Dollars)    102\n",
       "dtype: int64"
      ]
     },
     "execution_count": 234,
     "metadata": {},
     "output_type": "execute_result"
    }
   ],
   "source": [
    "test_df.isna().sum()"
   ]
  },
  {
   "cell_type": "code",
   "execution_count": 235,
   "id": "fc7e6d27",
   "metadata": {},
   "outputs": [],
   "source": [
    "test_df['Geography'] = test_df['Geography'].fillna(test_df['Geography'].mode()[0])"
   ]
  },
  {
   "cell_type": "code",
   "execution_count": 236,
   "id": "a4cb39a1",
   "metadata": {},
   "outputs": [],
   "source": [
    "test_df['Weighted_amount(Dollars)'].fillna(test_df['Weighted_amount(Dollars)'].median(), inplace = True)\n",
    "test_df['Deal_value(Dollars)'].fillna(test_df['Deal_value(Dollars)'].median(), inplace = True)"
   ]
  },
  {
   "cell_type": "code",
   "execution_count": 237,
   "id": "7da69832",
   "metadata": {},
   "outputs": [],
   "source": [
    "test_df.drop(['POC_name', 'Resource'], axis = 1, inplace = True)"
   ]
  },
  {
   "cell_type": "code",
   "execution_count": 238,
   "id": "375430fe",
   "metadata": {},
   "outputs": [
    {
     "name": "stdout",
     "output_type": "stream",
     "text": [
      "<class 'pandas.core.frame.DataFrame'>\n",
      "RangeIndex: 1402 entries, 0 to 1401\n",
      "Data columns (total 10 columns):\n",
      " #   Column                    Non-Null Count  Dtype  \n",
      "---  ------                    --------------  -----  \n",
      " 0   Deal_title                1402 non-null   object \n",
      " 1   Pitch                     1402 non-null   object \n",
      " 2   Lead_revenue              1402 non-null   object \n",
      " 3   Fund_category             1402 non-null   object \n",
      " 4   Geography                 1402 non-null   object \n",
      " 5   Lead_source               1402 non-null   object \n",
      " 6   Level_of_meeting          1402 non-null   object \n",
      " 7   Internal_rating           1402 non-null   int64  \n",
      " 8   Deal_value(Dollars)       1402 non-null   float64\n",
      " 9   Weighted_amount(Dollars)  1402 non-null   float64\n",
      "dtypes: float64(2), int64(1), object(7)\n",
      "memory usage: 109.7+ KB\n"
     ]
    }
   ],
   "source": [
    "test_df.info()"
   ]
  },
  {
   "cell_type": "code",
   "execution_count": 239,
   "id": "d598ba15",
   "metadata": {},
   "outputs": [],
   "source": [
    "test_df['Pitch'] = test_df['Pitch'].map({'Product_1' :0, 'Product_2' : 1})\n",
    "test_df['Lead_revenue'] = test_df['Lead_revenue'].map({'500 Million - 1 Billion' :0, '100 - 500 Million' : 1,\n",
    "                                                        '50 - 100 Million' : 2})\n",
    "test_df['Fund_category'] = test_df['Fund_category'].map({'Category 2' :0, 'Category 3' :1, 'Category 1' :2,\n",
    "                                                          'Category 4' :3})\n",
    "test_df['Geography'] = test_df['Geography'].map({'USA' :0, 'India' :1})\n",
    "test_df['Lead_source'] = test_df['Lead_source'].map({'Marketing Event' :0, 'Others' :1, 'Contact Email' :2,\n",
    "                                                      'Website' :3})\n",
    "test_df['Level_of_meeting'] = test_df['Level_of_meeting'].map({'Level 1' :0, 'Level 2' :1, 'Level 3' :2})"
   ]
  },
  {
   "cell_type": "code",
   "execution_count": 240,
   "id": "b1cbbdda",
   "metadata": {},
   "outputs": [
    {
     "data": {
      "text/html": [
       "<div>\n",
       "<style scoped>\n",
       "    .dataframe tbody tr th:only-of-type {\n",
       "        vertical-align: middle;\n",
       "    }\n",
       "\n",
       "    .dataframe tbody tr th {\n",
       "        vertical-align: top;\n",
       "    }\n",
       "\n",
       "    .dataframe thead th {\n",
       "        text-align: right;\n",
       "    }\n",
       "</style>\n",
       "<table border=\"1\" class=\"dataframe\">\n",
       "  <thead>\n",
       "    <tr style=\"text-align: right;\">\n",
       "      <th></th>\n",
       "      <th>Deal_title</th>\n",
       "      <th>Pitch</th>\n",
       "      <th>Lead_revenue</th>\n",
       "      <th>Fund_category</th>\n",
       "      <th>Geography</th>\n",
       "      <th>Lead_source</th>\n",
       "      <th>Level_of_meeting</th>\n",
       "      <th>Internal_rating</th>\n",
       "      <th>Deal_value(Dollars)</th>\n",
       "      <th>Weighted_amount(Dollars)</th>\n",
       "    </tr>\n",
       "  </thead>\n",
       "  <tbody>\n",
       "    <tr>\n",
       "      <th>0</th>\n",
       "      <td>TitleLFW99</td>\n",
       "      <td>0</td>\n",
       "      <td>0</td>\n",
       "      <td>3</td>\n",
       "      <td>1</td>\n",
       "      <td>2</td>\n",
       "      <td>1</td>\n",
       "      <td>3</td>\n",
       "      <td>148175.0</td>\n",
       "      <td>963137.5</td>\n",
       "    </tr>\n",
       "    <tr>\n",
       "      <th>1</th>\n",
       "      <td>Title7WR77</td>\n",
       "      <td>0</td>\n",
       "      <td>2</td>\n",
       "      <td>2</td>\n",
       "      <td>1</td>\n",
       "      <td>0</td>\n",
       "      <td>2</td>\n",
       "      <td>1</td>\n",
       "      <td>273302.0</td>\n",
       "      <td>1803793.2</td>\n",
       "    </tr>\n",
       "    <tr>\n",
       "      <th>2</th>\n",
       "      <td>TitleF6Q9B</td>\n",
       "      <td>1</td>\n",
       "      <td>2</td>\n",
       "      <td>2</td>\n",
       "      <td>1</td>\n",
       "      <td>0</td>\n",
       "      <td>2</td>\n",
       "      <td>3</td>\n",
       "      <td>185344.0</td>\n",
       "      <td>1260339.2</td>\n",
       "    </tr>\n",
       "    <tr>\n",
       "      <th>3</th>\n",
       "      <td>Title8TVFW</td>\n",
       "      <td>0</td>\n",
       "      <td>0</td>\n",
       "      <td>2</td>\n",
       "      <td>0</td>\n",
       "      <td>1</td>\n",
       "      <td>0</td>\n",
       "      <td>3</td>\n",
       "      <td>189599.0</td>\n",
       "      <td>1194473.7</td>\n",
       "    </tr>\n",
       "    <tr>\n",
       "      <th>4</th>\n",
       "      <td>TitleH8JO8</td>\n",
       "      <td>0</td>\n",
       "      <td>2</td>\n",
       "      <td>2</td>\n",
       "      <td>1</td>\n",
       "      <td>2</td>\n",
       "      <td>2</td>\n",
       "      <td>1</td>\n",
       "      <td>379241.0</td>\n",
       "      <td>2427142.4</td>\n",
       "    </tr>\n",
       "  </tbody>\n",
       "</table>\n",
       "</div>"
      ],
      "text/plain": [
       "   Deal_title  Pitch  Lead_revenue  Fund_category  Geography  Lead_source  \\\n",
       "0  TitleLFW99      0             0              3          1            2   \n",
       "1  Title7WR77      0             2              2          1            0   \n",
       "2  TitleF6Q9B      1             2              2          1            0   \n",
       "3  Title8TVFW      0             0              2          0            1   \n",
       "4  TitleH8JO8      0             2              2          1            2   \n",
       "\n",
       "   Level_of_meeting  Internal_rating  Deal_value(Dollars)  \\\n",
       "0                 1                3             148175.0   \n",
       "1                 2                1             273302.0   \n",
       "2                 2                3             185344.0   \n",
       "3                 0                3             189599.0   \n",
       "4                 2                1             379241.0   \n",
       "\n",
       "   Weighted_amount(Dollars)  \n",
       "0                  963137.5  \n",
       "1                 1803793.2  \n",
       "2                 1260339.2  \n",
       "3                 1194473.7  \n",
       "4                 2427142.4  "
      ]
     },
     "execution_count": 240,
     "metadata": {},
     "output_type": "execute_result"
    }
   ],
   "source": [
    "test_df.head()"
   ]
  },
  {
   "cell_type": "code",
   "execution_count": 241,
   "id": "874f1d42",
   "metadata": {},
   "outputs": [],
   "source": [
    "df_test = test_df.iloc[:, 1:]"
   ]
  },
  {
   "cell_type": "code",
   "execution_count": 242,
   "id": "7e3728ea",
   "metadata": {},
   "outputs": [
    {
     "data": {
      "text/html": [
       "<div>\n",
       "<style scoped>\n",
       "    .dataframe tbody tr th:only-of-type {\n",
       "        vertical-align: middle;\n",
       "    }\n",
       "\n",
       "    .dataframe tbody tr th {\n",
       "        vertical-align: top;\n",
       "    }\n",
       "\n",
       "    .dataframe thead th {\n",
       "        text-align: right;\n",
       "    }\n",
       "</style>\n",
       "<table border=\"1\" class=\"dataframe\">\n",
       "  <thead>\n",
       "    <tr style=\"text-align: right;\">\n",
       "      <th></th>\n",
       "      <th>Pitch</th>\n",
       "      <th>Lead_revenue</th>\n",
       "      <th>Fund_category</th>\n",
       "      <th>Geography</th>\n",
       "      <th>Lead_source</th>\n",
       "      <th>Level_of_meeting</th>\n",
       "      <th>Internal_rating</th>\n",
       "      <th>Deal_value(Dollars)</th>\n",
       "      <th>Weighted_amount(Dollars)</th>\n",
       "    </tr>\n",
       "  </thead>\n",
       "  <tbody>\n",
       "    <tr>\n",
       "      <th>0</th>\n",
       "      <td>0</td>\n",
       "      <td>0</td>\n",
       "      <td>3</td>\n",
       "      <td>1</td>\n",
       "      <td>2</td>\n",
       "      <td>1</td>\n",
       "      <td>3</td>\n",
       "      <td>148175.0</td>\n",
       "      <td>963137.5</td>\n",
       "    </tr>\n",
       "    <tr>\n",
       "      <th>1</th>\n",
       "      <td>0</td>\n",
       "      <td>2</td>\n",
       "      <td>2</td>\n",
       "      <td>1</td>\n",
       "      <td>0</td>\n",
       "      <td>2</td>\n",
       "      <td>1</td>\n",
       "      <td>273302.0</td>\n",
       "      <td>1803793.2</td>\n",
       "    </tr>\n",
       "    <tr>\n",
       "      <th>2</th>\n",
       "      <td>1</td>\n",
       "      <td>2</td>\n",
       "      <td>2</td>\n",
       "      <td>1</td>\n",
       "      <td>0</td>\n",
       "      <td>2</td>\n",
       "      <td>3</td>\n",
       "      <td>185344.0</td>\n",
       "      <td>1260339.2</td>\n",
       "    </tr>\n",
       "    <tr>\n",
       "      <th>3</th>\n",
       "      <td>0</td>\n",
       "      <td>0</td>\n",
       "      <td>2</td>\n",
       "      <td>0</td>\n",
       "      <td>1</td>\n",
       "      <td>0</td>\n",
       "      <td>3</td>\n",
       "      <td>189599.0</td>\n",
       "      <td>1194473.7</td>\n",
       "    </tr>\n",
       "    <tr>\n",
       "      <th>4</th>\n",
       "      <td>0</td>\n",
       "      <td>2</td>\n",
       "      <td>2</td>\n",
       "      <td>1</td>\n",
       "      <td>2</td>\n",
       "      <td>2</td>\n",
       "      <td>1</td>\n",
       "      <td>379241.0</td>\n",
       "      <td>2427142.4</td>\n",
       "    </tr>\n",
       "  </tbody>\n",
       "</table>\n",
       "</div>"
      ],
      "text/plain": [
       "   Pitch  Lead_revenue  Fund_category  Geography  Lead_source  \\\n",
       "0      0             0              3          1            2   \n",
       "1      0             2              2          1            0   \n",
       "2      1             2              2          1            0   \n",
       "3      0             0              2          0            1   \n",
       "4      0             2              2          1            2   \n",
       "\n",
       "   Level_of_meeting  Internal_rating  Deal_value(Dollars)  \\\n",
       "0                 1                3             148175.0   \n",
       "1                 2                1             273302.0   \n",
       "2                 2                3             185344.0   \n",
       "3                 0                3             189599.0   \n",
       "4                 2                1             379241.0   \n",
       "\n",
       "   Weighted_amount(Dollars)  \n",
       "0                  963137.5  \n",
       "1                 1803793.2  \n",
       "2                 1260339.2  \n",
       "3                 1194473.7  \n",
       "4                 2427142.4  "
      ]
     },
     "execution_count": 242,
     "metadata": {},
     "output_type": "execute_result"
    }
   ],
   "source": [
    "df_test.head()"
   ]
  },
  {
   "cell_type": "code",
   "execution_count": 243,
   "id": "e2e99761",
   "metadata": {},
   "outputs": [],
   "source": [
    "df_test = scaler.transform(df_test)"
   ]
  },
  {
   "cell_type": "code",
   "execution_count": 244,
   "id": "670af592",
   "metadata": {},
   "outputs": [],
   "source": [
    "predict = lasso_reg.predict(df_test)"
   ]
  },
  {
   "cell_type": "code",
   "execution_count": 245,
   "id": "e7e239a0",
   "metadata": {},
   "outputs": [
    {
     "data": {
      "text/plain": [
       "array([4.07421068, 4.07421054, 4.07421064, ..., 4.07421066, 4.07421063,\n",
       "       4.07421046])"
      ]
     },
     "execution_count": 245,
     "metadata": {},
     "output_type": "execute_result"
    }
   ],
   "source": [
    "predict"
   ]
  },
  {
   "cell_type": "code",
   "execution_count": 246,
   "id": "edf2a5a5",
   "metadata": {},
   "outputs": [],
   "source": [
    "test_df['Success_probability'] = predict"
   ]
  },
  {
   "cell_type": "code",
   "execution_count": 247,
   "id": "6c15497f",
   "metadata": {},
   "outputs": [
    {
     "data": {
      "text/html": [
       "<div>\n",
       "<style scoped>\n",
       "    .dataframe tbody tr th:only-of-type {\n",
       "        vertical-align: middle;\n",
       "    }\n",
       "\n",
       "    .dataframe tbody tr th {\n",
       "        vertical-align: top;\n",
       "    }\n",
       "\n",
       "    .dataframe thead th {\n",
       "        text-align: right;\n",
       "    }\n",
       "</style>\n",
       "<table border=\"1\" class=\"dataframe\">\n",
       "  <thead>\n",
       "    <tr style=\"text-align: right;\">\n",
       "      <th></th>\n",
       "      <th>Deal_title</th>\n",
       "      <th>Pitch</th>\n",
       "      <th>Lead_revenue</th>\n",
       "      <th>Fund_category</th>\n",
       "      <th>Geography</th>\n",
       "      <th>Lead_source</th>\n",
       "      <th>Level_of_meeting</th>\n",
       "      <th>Internal_rating</th>\n",
       "      <th>Deal_value(Dollars)</th>\n",
       "      <th>Weighted_amount(Dollars)</th>\n",
       "      <th>Success_probability</th>\n",
       "    </tr>\n",
       "  </thead>\n",
       "  <tbody>\n",
       "    <tr>\n",
       "      <th>0</th>\n",
       "      <td>TitleLFW99</td>\n",
       "      <td>0</td>\n",
       "      <td>0</td>\n",
       "      <td>3</td>\n",
       "      <td>1</td>\n",
       "      <td>2</td>\n",
       "      <td>1</td>\n",
       "      <td>3</td>\n",
       "      <td>148175.0</td>\n",
       "      <td>963137.5</td>\n",
       "      <td>4.074211</td>\n",
       "    </tr>\n",
       "    <tr>\n",
       "      <th>1</th>\n",
       "      <td>Title7WR77</td>\n",
       "      <td>0</td>\n",
       "      <td>2</td>\n",
       "      <td>2</td>\n",
       "      <td>1</td>\n",
       "      <td>0</td>\n",
       "      <td>2</td>\n",
       "      <td>1</td>\n",
       "      <td>273302.0</td>\n",
       "      <td>1803793.2</td>\n",
       "      <td>4.074211</td>\n",
       "    </tr>\n",
       "    <tr>\n",
       "      <th>2</th>\n",
       "      <td>TitleF6Q9B</td>\n",
       "      <td>1</td>\n",
       "      <td>2</td>\n",
       "      <td>2</td>\n",
       "      <td>1</td>\n",
       "      <td>0</td>\n",
       "      <td>2</td>\n",
       "      <td>3</td>\n",
       "      <td>185344.0</td>\n",
       "      <td>1260339.2</td>\n",
       "      <td>4.074211</td>\n",
       "    </tr>\n",
       "    <tr>\n",
       "      <th>3</th>\n",
       "      <td>Title8TVFW</td>\n",
       "      <td>0</td>\n",
       "      <td>0</td>\n",
       "      <td>2</td>\n",
       "      <td>0</td>\n",
       "      <td>1</td>\n",
       "      <td>0</td>\n",
       "      <td>3</td>\n",
       "      <td>189599.0</td>\n",
       "      <td>1194473.7</td>\n",
       "      <td>4.074211</td>\n",
       "    </tr>\n",
       "    <tr>\n",
       "      <th>4</th>\n",
       "      <td>TitleH8JO8</td>\n",
       "      <td>0</td>\n",
       "      <td>2</td>\n",
       "      <td>2</td>\n",
       "      <td>1</td>\n",
       "      <td>2</td>\n",
       "      <td>2</td>\n",
       "      <td>1</td>\n",
       "      <td>379241.0</td>\n",
       "      <td>2427142.4</td>\n",
       "      <td>4.074210</td>\n",
       "    </tr>\n",
       "  </tbody>\n",
       "</table>\n",
       "</div>"
      ],
      "text/plain": [
       "   Deal_title  Pitch  Lead_revenue  Fund_category  Geography  Lead_source  \\\n",
       "0  TitleLFW99      0             0              3          1            2   \n",
       "1  Title7WR77      0             2              2          1            0   \n",
       "2  TitleF6Q9B      1             2              2          1            0   \n",
       "3  Title8TVFW      0             0              2          0            1   \n",
       "4  TitleH8JO8      0             2              2          1            2   \n",
       "\n",
       "   Level_of_meeting  Internal_rating  Deal_value(Dollars)  \\\n",
       "0                 1                3             148175.0   \n",
       "1                 2                1             273302.0   \n",
       "2                 2                3             185344.0   \n",
       "3                 0                3             189599.0   \n",
       "4                 2                1             379241.0   \n",
       "\n",
       "   Weighted_amount(Dollars)  Success_probability  \n",
       "0                  963137.5             4.074211  \n",
       "1                 1803793.2             4.074211  \n",
       "2                 1260339.2             4.074211  \n",
       "3                 1194473.7             4.074211  \n",
       "4                 2427142.4             4.074210  "
      ]
     },
     "execution_count": 247,
     "metadata": {},
     "output_type": "execute_result"
    }
   ],
   "source": [
    "test_df.head()"
   ]
  },
  {
   "cell_type": "code",
   "execution_count": 248,
   "id": "5102dc84",
   "metadata": {},
   "outputs": [],
   "source": [
    "test_df.to_csv('submission_market.csv', index = False, header = False)"
   ]
  },
  {
   "cell_type": "code",
   "execution_count": null,
   "id": "a635eeed",
   "metadata": {},
   "outputs": [],
   "source": []
  },
  {
   "cell_type": "code",
   "execution_count": null,
   "id": "1c6acaeb",
   "metadata": {},
   "outputs": [],
   "source": []
  },
  {
   "cell_type": "code",
   "execution_count": null,
   "id": "a5f7d773",
   "metadata": {},
   "outputs": [],
   "source": []
  },
  {
   "cell_type": "code",
   "execution_count": null,
   "id": "17c03af5",
   "metadata": {},
   "outputs": [],
   "source": []
  }
 ],
 "metadata": {
  "kernelspec": {
   "display_name": "Python 3 (ipykernel)",
   "language": "python",
   "name": "python3"
  },
  "language_info": {
   "codemirror_mode": {
    "name": "ipython",
    "version": 3
   },
   "file_extension": ".py",
   "mimetype": "text/x-python",
   "name": "python",
   "nbconvert_exporter": "python",
   "pygments_lexer": "ipython3",
   "version": "3.9.13"
  }
 },
 "nbformat": 4,
 "nbformat_minor": 5
}
